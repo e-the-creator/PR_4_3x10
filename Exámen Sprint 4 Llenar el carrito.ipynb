{
 "cells": [
  {
   "cell_type": "markdown",
   "id": "3Xg_RQfnafXz",
   "metadata": {
    "id": "3Xg_RQfnafXz"
   },
   "source": [
    "# ¡Llena ese carrito!"
   ]
  },
  {
   "cell_type": "markdown",
   "id": "mhIvmmkW414q",
   "metadata": {
    "id": "mhIvmmkW414q"
   },
   "source": [
    "# Introducción\n",
    "\n",
    "Instacart es una plataforma de entregas de comestibles donde la clientela puede registrar un pedido y hacer que se lo entreguen, similar a Uber Eats y Door Dash.\n",
    "El conjunto de datos que te hemos proporcionado tiene modificaciones del original. Redujimos el tamaño del conjunto para que tus cálculos se hicieran más rápido e introdujimos valores ausentes y duplicados. Tuvimos cuidado de conservar las distribuciones de los datos originales cuando hicimos los cambios.\n",
    "\n",
    "Debes completar tres pasos. Para cada uno de ellos, escribe una breve introducción que refleje con claridad cómo pretendes resolver cada paso, y escribe párrafos explicatorios que justifiquen tus decisiones al tiempo que avanzas en tu solución.  También escribe una conclusión que resuma tus hallazgos y elecciones.\n"
   ]
  },
  {
   "cell_type": "markdown",
   "id": "3MbyzpOQZ5Or",
   "metadata": {
    "id": "3MbyzpOQZ5Or"
   },
   "source": [
    "## Diccionario de datos\n",
    "\n",
    "Hay cinco tablas en el conjunto de datos, y tendrás que usarlas todas para hacer el preprocesamiento de datos y el análisis exploratorio de datos. A continuación se muestra un diccionario de datos que enumera las columnas de cada tabla y describe los datos que contienen.\n",
    "\n",
    "- `instacart_orders.csv`: cada fila corresponde a un pedido en la aplicación Instacart.\n",
    "    - `'order_id'`: número de ID que identifica de manera única cada pedido.\n",
    "    - `'user_id'`: número de ID que identifica de manera única la cuenta de cada cliente.\n",
    "    - `'order_number'`: el número de veces que este cliente ha hecho un pedido.\n",
    "    - `'order_dow'`: día de la semana en que se hizo el pedido (0 si es domingo).\n",
    "    - `'order_hour_of_day'`: hora del día en que se hizo el pedido.\n",
    "    - `'days_since_prior_order'`: número de días transcurridos desde que este cliente hizo su pedido anterior.\n",
    "- `products.csv`: cada fila corresponde a un producto único que pueden comprar los clientes.\n",
    "    - `'product_id'`: número ID que identifica de manera única cada producto.\n",
    "    - `'product_name'`: nombre del producto.\n",
    "    - `'aisle_id'`: número ID que identifica de manera única cada categoría de pasillo de víveres.\n",
    "    - `'department_id'`: número ID que identifica de manera única cada departamento de víveres.\n",
    "- `order_products.csv`: cada fila corresponde a un artículo pedido en un pedido.\n",
    "    - `'order_id'`: número de ID que identifica de manera única cada pedido.\n",
    "    - `'product_id'`: número ID que identifica de manera única cada producto.\n",
    "    - `'add_to_cart_order'`: el orden secuencial en el que se añadió cada artículo en el carrito.\n",
    "    - `'reordered'`: 0 si el cliente nunca ha pedido este producto antes, 1 si lo ha pedido.\n",
    "- `aisles.csv`\n",
    "    - `'aisle_id'`: número ID que identifica de manera única cada categoría de pasillo de víveres.\n",
    "    - `'aisle'`: nombre del pasillo.\n",
    "- `departments.csv`\n",
    "    - `'department_id'`: número ID que identifica de manera única cada departamento de víveres.\n",
    "    - `'department'`: nombre del departamento."
   ]
  },
  {
   "cell_type": "markdown",
   "id": "n3Ha_cNSZ8lK",
   "metadata": {
    "id": "n3Ha_cNSZ8lK"
   },
   "source": [
    "# Paso 1. Descripción de los datos\n",
    "\n",
    "Lee los archivos de datos (`/datasets/instacart_orders.csv`, `/datasets/products.csv`, `/datasets/aisles.csv`, `/datasets/departments.csv` y `/datasets/order_products.csv`) con `pd.read_csv()` usando los parámetros adecuados para leer los datos correctamente. Verifica la información para cada DataFrame creado.\n"
   ]
  },
  {
   "cell_type": "markdown",
   "id": "OmlQPLlyaAfR",
   "metadata": {
    "id": "OmlQPLlyaAfR"
   },
   "source": [
    "## Plan de solución\n",
    "\n",
    "Escribe aquí tu plan de solución para el Paso 1. Descripción de los datos."
   ]
  },
  {
   "cell_type": "code",
   "execution_count": 4,
   "id": "fbf1adab",
   "metadata": {
    "id": "fbf1adab"
   },
   "outputs": [],
   "source": [
    "# importar librerías\n",
    "import pandas as pd\n",
    "import numpy as np\n",
    "import matplotlib.pyplot as plt"
   ]
  },
  {
   "cell_type": "code",
   "execution_count": 5,
   "id": "ad36396d",
   "metadata": {
    "id": "ad36396d"
   },
   "outputs": [],
   "source": [
    "# leer conjuntos de datos en los DataFrames\n",
    "df_instacart = pd.read_csv('instacart_orders.csv', sep = ';')\n",
    "df_products = pd.read_csv('products.csv', sep = ';')\n",
    "df_orders = pd.read_csv('order_products.csv', sep = ';')\n",
    "df_aisles = pd.read_csv('aisles.csv', sep = ';')\n",
    "df_departments = pd.read_csv('departments.csv', sep = ';')\n"
   ]
  },
  {
   "cell_type": "code",
   "execution_count": 6,
   "id": "ad6a1efa",
   "metadata": {
    "id": "ad6a1efa"
   },
   "outputs": [
    {
     "name": "stdout",
     "output_type": "stream",
     "text": [
      "<class 'pandas.core.frame.DataFrame'>\n",
      "RangeIndex: 478967 entries, 0 to 478966\n",
      "Data columns (total 6 columns):\n",
      " #   Column                  Non-Null Count   Dtype  \n",
      "---  ------                  --------------   -----  \n",
      " 0   order_id                478967 non-null  int64  \n",
      " 1   user_id                 478967 non-null  int64  \n",
      " 2   order_number            478967 non-null  int64  \n",
      " 3   order_dow               478967 non-null  int64  \n",
      " 4   order_hour_of_day       478967 non-null  int64  \n",
      " 5   days_since_prior_order  450148 non-null  float64\n",
      "dtypes: float64(1), int64(5)\n",
      "memory usage: 21.9 MB\n"
     ]
    },
    {
     "data": {
      "text/html": [
       "<div>\n",
       "<style scoped>\n",
       "    .dataframe tbody tr th:only-of-type {\n",
       "        vertical-align: middle;\n",
       "    }\n",
       "\n",
       "    .dataframe tbody tr th {\n",
       "        vertical-align: top;\n",
       "    }\n",
       "\n",
       "    .dataframe thead th {\n",
       "        text-align: right;\n",
       "    }\n",
       "</style>\n",
       "<table border=\"1\" class=\"dataframe\">\n",
       "  <thead>\n",
       "    <tr style=\"text-align: right;\">\n",
       "      <th></th>\n",
       "      <th>order_id</th>\n",
       "      <th>user_id</th>\n",
       "      <th>order_number</th>\n",
       "      <th>order_dow</th>\n",
       "      <th>order_hour_of_day</th>\n",
       "      <th>days_since_prior_order</th>\n",
       "    </tr>\n",
       "  </thead>\n",
       "  <tbody>\n",
       "    <tr>\n",
       "      <th>366479</th>\n",
       "      <td>2977153</td>\n",
       "      <td>11240</td>\n",
       "      <td>23</td>\n",
       "      <td>0</td>\n",
       "      <td>10</td>\n",
       "      <td>11.0</td>\n",
       "    </tr>\n",
       "    <tr>\n",
       "      <th>381100</th>\n",
       "      <td>3388934</td>\n",
       "      <td>118053</td>\n",
       "      <td>14</td>\n",
       "      <td>4</td>\n",
       "      <td>12</td>\n",
       "      <td>14.0</td>\n",
       "    </tr>\n",
       "    <tr>\n",
       "      <th>335377</th>\n",
       "      <td>3045829</td>\n",
       "      <td>171065</td>\n",
       "      <td>1</td>\n",
       "      <td>3</td>\n",
       "      <td>21</td>\n",
       "      <td>NaN</td>\n",
       "    </tr>\n",
       "    <tr>\n",
       "      <th>376791</th>\n",
       "      <td>2063969</td>\n",
       "      <td>20643</td>\n",
       "      <td>7</td>\n",
       "      <td>1</td>\n",
       "      <td>21</td>\n",
       "      <td>2.0</td>\n",
       "    </tr>\n",
       "    <tr>\n",
       "      <th>119841</th>\n",
       "      <td>1958013</td>\n",
       "      <td>153319</td>\n",
       "      <td>1</td>\n",
       "      <td>1</td>\n",
       "      <td>18</td>\n",
       "      <td>NaN</td>\n",
       "    </tr>\n",
       "  </tbody>\n",
       "</table>\n",
       "</div>"
      ],
      "text/plain": [
       "        order_id  user_id  order_number  order_dow  order_hour_of_day  \\\n",
       "366479   2977153    11240            23          0                 10   \n",
       "381100   3388934   118053            14          4                 12   \n",
       "335377   3045829   171065             1          3                 21   \n",
       "376791   2063969    20643             7          1                 21   \n",
       "119841   1958013   153319             1          1                 18   \n",
       "\n",
       "        days_since_prior_order  \n",
       "366479                    11.0  \n",
       "381100                    14.0  \n",
       "335377                     NaN  \n",
       "376791                     2.0  \n",
       "119841                     NaN  "
      ]
     },
     "execution_count": 6,
     "metadata": {},
     "output_type": "execute_result"
    }
   ],
   "source": [
    "# mostrar información del DataFrame\n",
    "df_instacart.info()\n",
    "df_instacart.sample(5)"
   ]
  },
  {
   "cell_type": "code",
   "execution_count": 7,
   "id": "5130e05e",
   "metadata": {
    "id": "5130e05e"
   },
   "outputs": [
    {
     "name": "stdout",
     "output_type": "stream",
     "text": [
      "<class 'pandas.core.frame.DataFrame'>\n",
      "RangeIndex: 49694 entries, 0 to 49693\n",
      "Data columns (total 4 columns):\n",
      " #   Column         Non-Null Count  Dtype \n",
      "---  ------         --------------  ----- \n",
      " 0   product_id     49694 non-null  int64 \n",
      " 1   product_name   48436 non-null  object\n",
      " 2   aisle_id       49694 non-null  int64 \n",
      " 3   department_id  49694 non-null  int64 \n",
      "dtypes: int64(3), object(1)\n",
      "memory usage: 1.5+ MB\n"
     ]
    },
    {
     "data": {
      "text/html": [
       "<div>\n",
       "<style scoped>\n",
       "    .dataframe tbody tr th:only-of-type {\n",
       "        vertical-align: middle;\n",
       "    }\n",
       "\n",
       "    .dataframe tbody tr th {\n",
       "        vertical-align: top;\n",
       "    }\n",
       "\n",
       "    .dataframe thead th {\n",
       "        text-align: right;\n",
       "    }\n",
       "</style>\n",
       "<table border=\"1\" class=\"dataframe\">\n",
       "  <thead>\n",
       "    <tr style=\"text-align: right;\">\n",
       "      <th></th>\n",
       "      <th>product_id</th>\n",
       "      <th>product_name</th>\n",
       "      <th>aisle_id</th>\n",
       "      <th>department_id</th>\n",
       "    </tr>\n",
       "  </thead>\n",
       "  <tbody>\n",
       "    <tr>\n",
       "      <th>16954</th>\n",
       "      <td>16955</td>\n",
       "      <td>Buffalo Wing Cooking Sauce</td>\n",
       "      <td>5</td>\n",
       "      <td>13</td>\n",
       "    </tr>\n",
       "    <tr>\n",
       "      <th>47982</th>\n",
       "      <td>47983</td>\n",
       "      <td>Organic Milkmaid Tea</td>\n",
       "      <td>94</td>\n",
       "      <td>7</td>\n",
       "    </tr>\n",
       "    <tr>\n",
       "      <th>46276</th>\n",
       "      <td>46277</td>\n",
       "      <td>Organix Cat Treats</td>\n",
       "      <td>41</td>\n",
       "      <td>8</td>\n",
       "    </tr>\n",
       "    <tr>\n",
       "      <th>19151</th>\n",
       "      <td>19152</td>\n",
       "      <td>Good Buddy Cookies Cheddar Cheese Flavor</td>\n",
       "      <td>40</td>\n",
       "      <td>8</td>\n",
       "    </tr>\n",
       "    <tr>\n",
       "      <th>20503</th>\n",
       "      <td>20504</td>\n",
       "      <td>Cheese Creations Double Cheddar Sauce</td>\n",
       "      <td>9</td>\n",
       "      <td>9</td>\n",
       "    </tr>\n",
       "  </tbody>\n",
       "</table>\n",
       "</div>"
      ],
      "text/plain": [
       "       product_id                              product_name  aisle_id  \\\n",
       "16954       16955                Buffalo Wing Cooking Sauce         5   \n",
       "47982       47983                      Organic Milkmaid Tea        94   \n",
       "46276       46277                        Organix Cat Treats        41   \n",
       "19151       19152  Good Buddy Cookies Cheddar Cheese Flavor        40   \n",
       "20503       20504     Cheese Creations Double Cheddar Sauce         9   \n",
       "\n",
       "       department_id  \n",
       "16954             13  \n",
       "47982              7  \n",
       "46276              8  \n",
       "19151              8  \n",
       "20503              9  "
      ]
     },
     "execution_count": 7,
     "metadata": {},
     "output_type": "execute_result"
    }
   ],
   "source": [
    "# mostrar información del DataFrame\n",
    "df_products.info()\n",
    "df_products.sample(5)"
   ]
  },
  {
   "cell_type": "code",
   "execution_count": 8,
   "id": "d8370c05",
   "metadata": {
    "id": "d8370c05"
   },
   "outputs": [
    {
     "name": "stdout",
     "output_type": "stream",
     "text": [
      "<class 'pandas.core.frame.DataFrame'>\n",
      "RangeIndex: 4545007 entries, 0 to 4545006\n",
      "Data columns (total 4 columns):\n",
      " #   Column             Non-Null Count    Dtype  \n",
      "---  ------             --------------    -----  \n",
      " 0   order_id           4545007 non-null  int64  \n",
      " 1   product_id         4545007 non-null  int64  \n",
      " 2   add_to_cart_order  4544171 non-null  float64\n",
      " 3   reordered          4545007 non-null  int64  \n",
      "dtypes: float64(1), int64(3)\n",
      "memory usage: 138.7 MB\n"
     ]
    },
    {
     "data": {
      "text/html": [
       "<div>\n",
       "<style scoped>\n",
       "    .dataframe tbody tr th:only-of-type {\n",
       "        vertical-align: middle;\n",
       "    }\n",
       "\n",
       "    .dataframe tbody tr th {\n",
       "        vertical-align: top;\n",
       "    }\n",
       "\n",
       "    .dataframe thead th {\n",
       "        text-align: right;\n",
       "    }\n",
       "</style>\n",
       "<table border=\"1\" class=\"dataframe\">\n",
       "  <thead>\n",
       "    <tr style=\"text-align: right;\">\n",
       "      <th></th>\n",
       "      <th>order_id</th>\n",
       "      <th>product_id</th>\n",
       "      <th>add_to_cart_order</th>\n",
       "      <th>reordered</th>\n",
       "    </tr>\n",
       "  </thead>\n",
       "  <tbody>\n",
       "    <tr>\n",
       "      <th>1618756</th>\n",
       "      <td>1543663</td>\n",
       "      <td>31717</td>\n",
       "      <td>6.0</td>\n",
       "      <td>1</td>\n",
       "    </tr>\n",
       "    <tr>\n",
       "      <th>1554948</th>\n",
       "      <td>1715683</td>\n",
       "      <td>39581</td>\n",
       "      <td>3.0</td>\n",
       "      <td>1</td>\n",
       "    </tr>\n",
       "    <tr>\n",
       "      <th>4036548</th>\n",
       "      <td>2145815</td>\n",
       "      <td>23734</td>\n",
       "      <td>6.0</td>\n",
       "      <td>1</td>\n",
       "    </tr>\n",
       "    <tr>\n",
       "      <th>1120288</th>\n",
       "      <td>2024293</td>\n",
       "      <td>27521</td>\n",
       "      <td>11.0</td>\n",
       "      <td>0</td>\n",
       "    </tr>\n",
       "    <tr>\n",
       "      <th>1798403</th>\n",
       "      <td>3067156</td>\n",
       "      <td>32655</td>\n",
       "      <td>7.0</td>\n",
       "      <td>1</td>\n",
       "    </tr>\n",
       "  </tbody>\n",
       "</table>\n",
       "</div>"
      ],
      "text/plain": [
       "         order_id  product_id  add_to_cart_order  reordered\n",
       "1618756   1543663       31717                6.0          1\n",
       "1554948   1715683       39581                3.0          1\n",
       "4036548   2145815       23734                6.0          1\n",
       "1120288   2024293       27521               11.0          0\n",
       "1798403   3067156       32655                7.0          1"
      ]
     },
     "execution_count": 8,
     "metadata": {},
     "output_type": "execute_result"
    }
   ],
   "source": [
    "# mostrar información del DataFrame\n",
    "df_orders.info(show_counts= True) #Al ser un DF con muchas entradas, info no arroja los valores no nulos\n",
    "df_orders.sample(5)"
   ]
  },
  {
   "cell_type": "code",
   "execution_count": 9,
   "id": "59e2090f",
   "metadata": {
    "id": "59e2090f"
   },
   "outputs": [
    {
     "name": "stdout",
     "output_type": "stream",
     "text": [
      "<class 'pandas.core.frame.DataFrame'>\n",
      "RangeIndex: 134 entries, 0 to 133\n",
      "Data columns (total 2 columns):\n",
      " #   Column    Non-Null Count  Dtype \n",
      "---  ------    --------------  ----- \n",
      " 0   aisle_id  134 non-null    int64 \n",
      " 1   aisle     134 non-null    object\n",
      "dtypes: int64(1), object(1)\n",
      "memory usage: 2.2+ KB\n"
     ]
    },
    {
     "data": {
      "text/html": [
       "<div>\n",
       "<style scoped>\n",
       "    .dataframe tbody tr th:only-of-type {\n",
       "        vertical-align: middle;\n",
       "    }\n",
       "\n",
       "    .dataframe tbody tr th {\n",
       "        vertical-align: top;\n",
       "    }\n",
       "\n",
       "    .dataframe thead th {\n",
       "        text-align: right;\n",
       "    }\n",
       "</style>\n",
       "<table border=\"1\" class=\"dataframe\">\n",
       "  <thead>\n",
       "    <tr style=\"text-align: right;\">\n",
       "      <th></th>\n",
       "      <th>aisle_id</th>\n",
       "      <th>aisle</th>\n",
       "    </tr>\n",
       "  </thead>\n",
       "  <tbody>\n",
       "    <tr>\n",
       "      <th>0</th>\n",
       "      <td>1</td>\n",
       "      <td>prepared soups salads</td>\n",
       "    </tr>\n",
       "    <tr>\n",
       "      <th>1</th>\n",
       "      <td>2</td>\n",
       "      <td>specialty cheeses</td>\n",
       "    </tr>\n",
       "    <tr>\n",
       "      <th>2</th>\n",
       "      <td>3</td>\n",
       "      <td>energy granola bars</td>\n",
       "    </tr>\n",
       "    <tr>\n",
       "      <th>3</th>\n",
       "      <td>4</td>\n",
       "      <td>instant foods</td>\n",
       "    </tr>\n",
       "    <tr>\n",
       "      <th>4</th>\n",
       "      <td>5</td>\n",
       "      <td>marinades meat preparation</td>\n",
       "    </tr>\n",
       "  </tbody>\n",
       "</table>\n",
       "</div>"
      ],
      "text/plain": [
       "   aisle_id                       aisle\n",
       "0         1       prepared soups salads\n",
       "1         2           specialty cheeses\n",
       "2         3         energy granola bars\n",
       "3         4               instant foods\n",
       "4         5  marinades meat preparation"
      ]
     },
     "execution_count": 9,
     "metadata": {},
     "output_type": "execute_result"
    }
   ],
   "source": [
    "# mostrar información del DataFrame\n",
    "df_aisles.info()\n",
    "df_aisles.head()"
   ]
  },
  {
   "cell_type": "code",
   "execution_count": 10,
   "id": "6fc81694",
   "metadata": {
    "id": "6fc81694"
   },
   "outputs": [
    {
     "name": "stdout",
     "output_type": "stream",
     "text": [
      "<class 'pandas.core.frame.DataFrame'>\n",
      "RangeIndex: 21 entries, 0 to 20\n",
      "Data columns (total 2 columns):\n",
      " #   Column         Non-Null Count  Dtype \n",
      "---  ------         --------------  ----- \n",
      " 0   department_id  21 non-null     int64 \n",
      " 1   department     21 non-null     object\n",
      "dtypes: int64(1), object(1)\n",
      "memory usage: 468.0+ bytes\n"
     ]
    },
    {
     "data": {
      "text/html": [
       "<div>\n",
       "<style scoped>\n",
       "    .dataframe tbody tr th:only-of-type {\n",
       "        vertical-align: middle;\n",
       "    }\n",
       "\n",
       "    .dataframe tbody tr th {\n",
       "        vertical-align: top;\n",
       "    }\n",
       "\n",
       "    .dataframe thead th {\n",
       "        text-align: right;\n",
       "    }\n",
       "</style>\n",
       "<table border=\"1\" class=\"dataframe\">\n",
       "  <thead>\n",
       "    <tr style=\"text-align: right;\">\n",
       "      <th></th>\n",
       "      <th>department_id</th>\n",
       "      <th>department</th>\n",
       "    </tr>\n",
       "  </thead>\n",
       "  <tbody>\n",
       "    <tr>\n",
       "      <th>0</th>\n",
       "      <td>1</td>\n",
       "      <td>frozen</td>\n",
       "    </tr>\n",
       "    <tr>\n",
       "      <th>1</th>\n",
       "      <td>2</td>\n",
       "      <td>other</td>\n",
       "    </tr>\n",
       "    <tr>\n",
       "      <th>2</th>\n",
       "      <td>3</td>\n",
       "      <td>bakery</td>\n",
       "    </tr>\n",
       "    <tr>\n",
       "      <th>3</th>\n",
       "      <td>4</td>\n",
       "      <td>produce</td>\n",
       "    </tr>\n",
       "    <tr>\n",
       "      <th>4</th>\n",
       "      <td>5</td>\n",
       "      <td>alcohol</td>\n",
       "    </tr>\n",
       "  </tbody>\n",
       "</table>\n",
       "</div>"
      ],
      "text/plain": [
       "   department_id department\n",
       "0              1     frozen\n",
       "1              2      other\n",
       "2              3     bakery\n",
       "3              4    produce\n",
       "4              5    alcohol"
      ]
     },
     "execution_count": 10,
     "metadata": {},
     "output_type": "execute_result"
    }
   ],
   "source": [
    "# mostrar información del DataFrame\n",
    "df_departments.info()\n",
    "df_departments.head()"
   ]
  },
  {
   "cell_type": "markdown",
   "id": "t75BD19oaR5f",
   "metadata": {
    "id": "t75BD19oaR5f"
   },
   "source": [
    "## Conclusiones\n",
    "\n",
    "Escribe aquí tus conclusiones intermedias sobre el Paso 1. Descripción de los datos.\n",
    "\n",
    "El DF 'instacart' en la columna 'days_since_prior_order' tiene 28,819 valores nulos representan el 6% de la información de la columna. \n",
    "El DF 'productos' en la columna 'product_name' tiene 1258 valores nulos representan el 2.5% de la información de la columna.\n",
    "El DF 'order' en la columna 'add_to_cart_order' tiene 836 valores nulos representan el 0.01% de la información de la columna.\n",
    "\n",
    "\n",
    "Las tablas comparten información similar respecto a las demás tablas, por ejemplo:\n",
    "\n",
    "* Las columnas 'order_id' de las tablas instacart y orders, podríamos usar merge() en ambos DF \n",
    "* El DF de 'products' y el df de 'order_products' comparten el mismo nombre de columna 'product_id' podemos unir ambos DF\n",
    "* El DF de 'products' y el df de 'aisles' comparten la columna 'aisle_id' podemos concatenar por columna\n",
    "* El DF de 'products' y el df de 'departments' comparten la columna 'department_id' podemos concatenar por columna\n",
    "\n",
    "\n",
    "En la columna 'days_since_prior_order' está en flotante y estamos midiendo días, lo ideal sería cambiarlo a Dato tipo int y cambiaría el valor\n",
    "de 'order_dow' a los días como tal(Monday, Tuesday, etc) para hacer la información más digerible.\n",
    "La columna 'add_to_cart_order' del df 'orders' está en valor tipo flotante, podemos cambiarlo a entero sabiendo que es que es el orden secuencial en que se añadieron productos al carrito\n",
    "\n",
    "De la columna 'department_id' del df 'departments' unimos al df 'products', del df 'products' podemos unir la columna 'aisle_id' al df 'aisles', y también podemos unir la columna 'product_id' con el df 'orders' y del df 'orders' podemos unir al df 'instacart' mediante la columna 'order_id'.\n",
    "\n",
    "**Podemos juntar la información de todas las tablas en un sólo DF si unimos los datos de la manera correcta, esto nos permitirá tener a detalle cada orden, inclusive podemos categorizar por departamento y por pasillo respecto al producto que se esté comercializando, de esa manera podemos extraer más información, por ejemplo, los productos más vendidos, el día con mayor venta, la hr preferida para las consumidores para comprar, el departamento y pasillo con más productos vendidos y de igual manera la otra cara, los productos menos vendidos, el día y hr menos preferidos para los consumidores, departamentos y pasillos con menor interés, etc.**"
   ]
  },
  {
   "cell_type": "markdown",
   "id": "8RJHqxVmaVsF",
   "metadata": {
    "id": "8RJHqxVmaVsF"
   },
   "source": [
    "# Paso 2. Preprocesamiento de los datos\n",
    "\n",
    "Preprocesa los datos de la siguiente manera:\n",
    "\n",
    "- Verifica y corrige los tipos de datos (por ejemplo, asegúrate de que las columnas de ID sean números enteros).\n",
    "- Identifica y completa los valores ausentes.\n",
    "- Identifica y elimina los valores duplicados.\n",
    "\n",
    "Asegúrate de explicar qué tipos de valores ausentes y duplicados encontraste, cómo los completaste o eliminaste y por qué usaste esos métodos. ¿Por qué crees que estos valores ausentes y duplicados pueden haber estado presentes en el conjunto de datos?"
   ]
  },
  {
   "cell_type": "markdown",
   "id": "p6poABZQaZYb",
   "metadata": {
    "id": "p6poABZQaZYb"
   },
   "source": [
    "## Plan de solución\n",
    "\n",
    "Escribe aquí tu plan para el Paso 2. Preprocesamiento de los datos."
   ]
  },
  {
   "cell_type": "markdown",
   "id": "07357848-dc64-4156-9cc3-01ff4365226d",
   "metadata": {
    "id": "07357848-dc64-4156-9cc3-01ff4365226d"
   },
   "source": [
    "## Encuentra y elimina los valores duplicados (y describe cómo tomaste tus decisiones)."
   ]
  },
  {
   "cell_type": "markdown",
   "id": "f179f0a9",
   "metadata": {
    "id": "f179f0a9"
   },
   "source": [
    "### `instacart_orders` data frame"
   ]
  },
  {
   "cell_type": "code",
   "execution_count": 11,
   "id": "b99297a5-405a-463d-8535-9adc3da4ad74",
   "metadata": {
    "id": "b99297a5-405a-463d-8535-9adc3da4ad74"
   },
   "outputs": [
    {
     "data": {
      "text/plain": [
       "np.int64(15)"
      ]
     },
     "execution_count": 11,
     "metadata": {},
     "output_type": "execute_result"
    }
   ],
   "source": [
    "# Revisa si hay pedidos duplicados\n",
    "df_instacart.duplicated().sum()"
   ]
  },
  {
   "cell_type": "markdown",
   "id": "PEkwUX_gvt5A",
   "metadata": {
    "id": "PEkwUX_gvt5A"
   },
   "source": [
    "¿Tienes líneas duplicadas? Si sí, ¿qué tienen en común?"
   ]
  },
  {
   "cell_type": "code",
   "execution_count": 12,
   "id": "0d44de5d",
   "metadata": {
    "id": "0d44de5d"
   },
   "outputs": [
    {
     "data": {
      "text/html": [
       "<div>\n",
       "<style scoped>\n",
       "    .dataframe tbody tr th:only-of-type {\n",
       "        vertical-align: middle;\n",
       "    }\n",
       "\n",
       "    .dataframe tbody tr th {\n",
       "        vertical-align: top;\n",
       "    }\n",
       "\n",
       "    .dataframe thead th {\n",
       "        text-align: right;\n",
       "    }\n",
       "</style>\n",
       "<table border=\"1\" class=\"dataframe\">\n",
       "  <thead>\n",
       "    <tr style=\"text-align: right;\">\n",
       "      <th></th>\n",
       "      <th>order_id</th>\n",
       "      <th>user_id</th>\n",
       "      <th>order_number</th>\n",
       "      <th>order_dow</th>\n",
       "      <th>order_hour_of_day</th>\n",
       "      <th>days_since_prior_order</th>\n",
       "    </tr>\n",
       "  </thead>\n",
       "  <tbody>\n",
       "    <tr>\n",
       "      <th>145574</th>\n",
       "      <td>794638</td>\n",
       "      <td>50898</td>\n",
       "      <td>24</td>\n",
       "      <td>3</td>\n",
       "      <td>2</td>\n",
       "      <td>2.0</td>\n",
       "    </tr>\n",
       "    <tr>\n",
       "      <th>223105</th>\n",
       "      <td>2160484</td>\n",
       "      <td>107525</td>\n",
       "      <td>16</td>\n",
       "      <td>3</td>\n",
       "      <td>2</td>\n",
       "      <td>30.0</td>\n",
       "    </tr>\n",
       "    <tr>\n",
       "      <th>230807</th>\n",
       "      <td>1918001</td>\n",
       "      <td>188546</td>\n",
       "      <td>14</td>\n",
       "      <td>3</td>\n",
       "      <td>2</td>\n",
       "      <td>16.0</td>\n",
       "    </tr>\n",
       "    <tr>\n",
       "      <th>266232</th>\n",
       "      <td>1782114</td>\n",
       "      <td>106752</td>\n",
       "      <td>1</td>\n",
       "      <td>3</td>\n",
       "      <td>2</td>\n",
       "      <td>NaN</td>\n",
       "    </tr>\n",
       "    <tr>\n",
       "      <th>273805</th>\n",
       "      <td>1112182</td>\n",
       "      <td>202304</td>\n",
       "      <td>84</td>\n",
       "      <td>3</td>\n",
       "      <td>2</td>\n",
       "      <td>6.0</td>\n",
       "    </tr>\n",
       "    <tr>\n",
       "      <th>284038</th>\n",
       "      <td>2845099</td>\n",
       "      <td>31189</td>\n",
       "      <td>11</td>\n",
       "      <td>3</td>\n",
       "      <td>2</td>\n",
       "      <td>7.0</td>\n",
       "    </tr>\n",
       "    <tr>\n",
       "      <th>311713</th>\n",
       "      <td>1021560</td>\n",
       "      <td>53767</td>\n",
       "      <td>3</td>\n",
       "      <td>3</td>\n",
       "      <td>2</td>\n",
       "      <td>9.0</td>\n",
       "    </tr>\n",
       "    <tr>\n",
       "      <th>321100</th>\n",
       "      <td>408114</td>\n",
       "      <td>68324</td>\n",
       "      <td>4</td>\n",
       "      <td>3</td>\n",
       "      <td>2</td>\n",
       "      <td>18.0</td>\n",
       "    </tr>\n",
       "    <tr>\n",
       "      <th>323900</th>\n",
       "      <td>1919531</td>\n",
       "      <td>191501</td>\n",
       "      <td>32</td>\n",
       "      <td>3</td>\n",
       "      <td>2</td>\n",
       "      <td>7.0</td>\n",
       "    </tr>\n",
       "    <tr>\n",
       "      <th>345917</th>\n",
       "      <td>2232988</td>\n",
       "      <td>82565</td>\n",
       "      <td>1</td>\n",
       "      <td>3</td>\n",
       "      <td>2</td>\n",
       "      <td>NaN</td>\n",
       "    </tr>\n",
       "    <tr>\n",
       "      <th>371905</th>\n",
       "      <td>391768</td>\n",
       "      <td>57671</td>\n",
       "      <td>19</td>\n",
       "      <td>3</td>\n",
       "      <td>2</td>\n",
       "      <td>10.0</td>\n",
       "    </tr>\n",
       "    <tr>\n",
       "      <th>394347</th>\n",
       "      <td>467134</td>\n",
       "      <td>63189</td>\n",
       "      <td>21</td>\n",
       "      <td>3</td>\n",
       "      <td>2</td>\n",
       "      <td>2.0</td>\n",
       "    </tr>\n",
       "    <tr>\n",
       "      <th>411408</th>\n",
       "      <td>1286742</td>\n",
       "      <td>183220</td>\n",
       "      <td>48</td>\n",
       "      <td>3</td>\n",
       "      <td>2</td>\n",
       "      <td>4.0</td>\n",
       "    </tr>\n",
       "    <tr>\n",
       "      <th>415163</th>\n",
       "      <td>2282673</td>\n",
       "      <td>86751</td>\n",
       "      <td>49</td>\n",
       "      <td>3</td>\n",
       "      <td>2</td>\n",
       "      <td>2.0</td>\n",
       "    </tr>\n",
       "    <tr>\n",
       "      <th>441599</th>\n",
       "      <td>2125197</td>\n",
       "      <td>14050</td>\n",
       "      <td>48</td>\n",
       "      <td>3</td>\n",
       "      <td>2</td>\n",
       "      <td>3.0</td>\n",
       "    </tr>\n",
       "  </tbody>\n",
       "</table>\n",
       "</div>"
      ],
      "text/plain": [
       "        order_id  user_id  order_number  order_dow  order_hour_of_day  \\\n",
       "145574    794638    50898            24          3                  2   \n",
       "223105   2160484   107525            16          3                  2   \n",
       "230807   1918001   188546            14          3                  2   \n",
       "266232   1782114   106752             1          3                  2   \n",
       "273805   1112182   202304            84          3                  2   \n",
       "284038   2845099    31189            11          3                  2   \n",
       "311713   1021560    53767             3          3                  2   \n",
       "321100    408114    68324             4          3                  2   \n",
       "323900   1919531   191501            32          3                  2   \n",
       "345917   2232988    82565             1          3                  2   \n",
       "371905    391768    57671            19          3                  2   \n",
       "394347    467134    63189            21          3                  2   \n",
       "411408   1286742   183220            48          3                  2   \n",
       "415163   2282673    86751            49          3                  2   \n",
       "441599   2125197    14050            48          3                  2   \n",
       "\n",
       "        days_since_prior_order  \n",
       "145574                     2.0  \n",
       "223105                    30.0  \n",
       "230807                    16.0  \n",
       "266232                     NaN  \n",
       "273805                     6.0  \n",
       "284038                     7.0  \n",
       "311713                     9.0  \n",
       "321100                    18.0  \n",
       "323900                     7.0  \n",
       "345917                     NaN  \n",
       "371905                    10.0  \n",
       "394347                     2.0  \n",
       "411408                     4.0  \n",
       "415163                     2.0  \n",
       "441599                     3.0  "
      ]
     },
     "execution_count": 12,
     "metadata": {},
     "output_type": "execute_result"
    }
   ],
   "source": [
    "# Basándote en tus hallazgos,\n",
    "# Verifica todos los pedidos que se hicieron el miércoles a las 2:00 a.m.\n",
    "df_instacart[df_instacart.duplicated()]\n",
    "#Que todos los pedidos duplicados se realizaron en Miércoles a las 2:00 a.m.\n",
    "# los cliente con la cantidad de veces ordenadas 'order_number' = 1 tienen por defecto NaN en 'days_since_prior_order' al ser su primera compra\n"
   ]
  },
  {
   "cell_type": "markdown",
   "id": "vu2OWyoqwOx5",
   "metadata": {
    "id": "vu2OWyoqwOx5"
   },
   "source": [
    "¿Qué sugiere este resultado?\n",
    "\n",
    "Que pudo haber alguna falla en el sistema que no estuviese registrando bien los pedidos o bien que por un periodo algunos pedidos registrados el miércoles a las 2:00 am fueron duplicados."
   ]
  },
  {
   "cell_type": "code",
   "execution_count": 13,
   "id": "480563c7",
   "metadata": {
    "id": "480563c7"
   },
   "outputs": [],
   "source": [
    "# Elimina los pedidos duplicados\n",
    "df_instacart = df_instacart.drop_duplicates().reset_index(drop = True)"
   ]
  },
  {
   "cell_type": "code",
   "execution_count": 14,
   "id": "0b2396a2",
   "metadata": {
    "id": "0b2396a2"
   },
   "outputs": [
    {
     "data": {
      "text/plain": [
       "np.int64(0)"
      ]
     },
     "execution_count": 14,
     "metadata": {},
     "output_type": "execute_result"
    }
   ],
   "source": [
    "# Vuelve a verificar si hay filas duplicadas\n",
    "df_instacart.duplicated().sum()"
   ]
  },
  {
   "cell_type": "code",
   "execution_count": 15,
   "id": "f6113ef1",
   "metadata": {
    "id": "f6113ef1"
   },
   "outputs": [
    {
     "data": {
      "text/plain": [
       "np.int64(0)"
      ]
     },
     "execution_count": 15,
     "metadata": {},
     "output_type": "execute_result"
    }
   ],
   "source": [
    "# Vuelve a verificar si hay IDs duplicados de pedidos\n",
    "df_duplicados_pedidos = df_instacart['order_id'].duplicated().sum()\n",
    "df_duplicados_pedidos"
   ]
  },
  {
   "cell_type": "markdown",
   "id": "5e8905ae",
   "metadata": {
    "id": "5e8905ae"
   },
   "source": [
    "Describe brevemente tus hallazgos y lo que hiciste con ellos\n",
    "\n",
    "Primero buscamos si había duplicados en el DF de 'df_instacart'\n",
    "Posterior a ello los ubicamos para conocer si tenían alguna relación\n",
    "encontramos pedidos duplicados en día Miércoles a las 2:00 am.\n",
    "Posterior a ello procedimos a eliminar los duplicados\n",
    "Y revisamos si aún teníamos duplicados."
   ]
  },
  {
   "cell_type": "markdown",
   "id": "45e6bc46",
   "metadata": {
    "id": "45e6bc46"
   },
   "source": [
    "### `products` data frame"
   ]
  },
  {
   "cell_type": "code",
   "execution_count": 16,
   "id": "5f526b5b-8175-46fa-a0fd-441767d50e64",
   "metadata": {
    "id": "5f526b5b-8175-46fa-a0fd-441767d50e64"
   },
   "outputs": [
    {
     "data": {
      "text/plain": [
       "np.int64(0)"
      ]
     },
     "execution_count": 16,
     "metadata": {},
     "output_type": "execute_result"
    }
   ],
   "source": [
    "# Verifica si hay filas totalmente duplicadas\n",
    "df_products.duplicated().sum()"
   ]
  },
  {
   "cell_type": "code",
   "execution_count": 17,
   "id": "88daa4f4",
   "metadata": {
    "id": "88daa4f4"
   },
   "outputs": [
    {
     "data": {
      "text/plain": [
       "np.int64(0)"
      ]
     },
     "execution_count": 17,
     "metadata": {},
     "output_type": "execute_result"
    }
   ],
   "source": [
    "# Verifica si hay IDs duplicadas de productos\n",
    "df_id = df_products['product_id'].duplicated().sum()\n",
    "df_id"
   ]
  },
  {
   "cell_type": "code",
   "execution_count": 18,
   "id": "c773f0bf",
   "metadata": {
    "id": "c773f0bf"
   },
   "outputs": [
    {
     "name": "stdout",
     "output_type": "stream",
     "text": [
      "0                               CHOCOLATE SANDWICH COOKIES\n",
      "1                                         ALL-SEASONS SALT\n",
      "2                     ROBUST GOLDEN UNSWEETENED OOLONG TEA\n",
      "3        SMART ONES CLASSIC FAVORITES MINI RIGATONI WIT...\n",
      "4                                GREEN CHILE ANYTIME SAUCE\n",
      "                               ...                        \n",
      "49689                        HIGH PERFORMANCE ENERGY DRINK\n",
      "49690                        ORIGINAL PANCAKE & WAFFLE MIX\n",
      "49691      ORGANIC INSTANT OATMEAL LIGHT MAPLE BROWN SUGAR\n",
      "49692                               SPRING WATER BODY WASH\n",
      "49693                              BURRITO- STEAK & CHEESE\n",
      "Name: product_name, Length: 49694, dtype: object\n"
     ]
    }
   ],
   "source": [
    "# Revisa si hay nombres duplicados de productos (convierte los nombres a letras mayúsculas para compararlos mejor)\n",
    "df_products['product_name'] = df_products['product_name'].str.upper()\n",
    "print(df_products['product_name'])"
   ]
  },
  {
   "cell_type": "code",
   "execution_count": 19,
   "id": "01efd02e",
   "metadata": {
    "id": "01efd02e"
   },
   "outputs": [
    {
     "data": {
      "text/plain": [
       "np.int64(1361)"
      ]
     },
     "execution_count": 19,
     "metadata": {},
     "output_type": "execute_result"
    }
   ],
   "source": [
    "# Revisa si hay nombres duplicados de productos no faltantes\n",
    "df_products['product_name'].duplicated().sum()"
   ]
  },
  {
   "cell_type": "markdown",
   "id": "9da8d293",
   "metadata": {
    "id": "9da8d293"
   },
   "source": [
    "Describe brevemente tus hallazgos y lo que hiciste con ellos.\n",
    "\n",
    "El Dataframe de products no contaba con valores duplicados, sin embargo, la columna 'product_name' tenía algunos duplicados implícitos que se solucionaron cambiando todos los nombres en Mayúsculas."
   ]
  },
  {
   "cell_type": "markdown",
   "id": "60f30db1",
   "metadata": {
    "id": "60f30db1"
   },
   "source": [
    "### `departments` data frame"
   ]
  },
  {
   "cell_type": "code",
   "execution_count": 20,
   "id": "fb410ad4-0fbf-4b80-bb09-23fdea79afe3",
   "metadata": {
    "id": "fb410ad4-0fbf-4b80-bb09-23fdea79afe3"
   },
   "outputs": [
    {
     "data": {
      "text/plain": [
       "np.int64(0)"
      ]
     },
     "execution_count": 20,
     "metadata": {},
     "output_type": "execute_result"
    }
   ],
   "source": [
    "# Revisa si hay filas totalmente duplicadas\n",
    "df_departments.duplicated().sum()"
   ]
  },
  {
   "cell_type": "code",
   "execution_count": 21,
   "id": "332b12bb",
   "metadata": {
    "id": "332b12bb"
   },
   "outputs": [
    {
     "data": {
      "text/plain": [
       "np.int64(0)"
      ]
     },
     "execution_count": 21,
     "metadata": {},
     "output_type": "execute_result"
    }
   ],
   "source": [
    "# Revisa si hay IDs duplicadas de productos\n",
    "df_departments['department_id'].duplicated().sum()"
   ]
  },
  {
   "cell_type": "markdown",
   "id": "bd30d78e",
   "metadata": {
    "id": "bd30d78e"
   },
   "source": [
    "Describe brevemente tus hallazgos y lo que hiciste con ellos.\n",
    "\n",
    "En el DF de departments no tenemos valores nulos, cada departamento tiene un valor asignado, inclusive el departamento con información perdida."
   ]
  },
  {
   "cell_type": "markdown",
   "id": "889349c1",
   "metadata": {
    "id": "889349c1"
   },
   "source": [
    "### `aisles` data frame"
   ]
  },
  {
   "cell_type": "code",
   "execution_count": 22,
   "id": "9da89fb9-4679-40f5-ad0d-c34df753a3f8",
   "metadata": {
    "id": "9da89fb9-4679-40f5-ad0d-c34df753a3f8"
   },
   "outputs": [
    {
     "data": {
      "text/plain": [
       "np.int64(0)"
      ]
     },
     "execution_count": 22,
     "metadata": {},
     "output_type": "execute_result"
    }
   ],
   "source": [
    "# Revisa si hay filas totalmente duplicadas\n",
    "df_aisles.duplicated().sum()"
   ]
  },
  {
   "cell_type": "code",
   "execution_count": 23,
   "id": "da7c2822",
   "metadata": {
    "id": "da7c2822"
   },
   "outputs": [
    {
     "data": {
      "text/plain": [
       "np.int64(0)"
      ]
     },
     "execution_count": 23,
     "metadata": {},
     "output_type": "execute_result"
    }
   ],
   "source": [
    "# Revisa si hay IDs duplicadas de productos\n",
    "df_aisles['aisle_id'].duplicated().sum()"
   ]
  },
  {
   "cell_type": "markdown",
   "id": "ac63826f",
   "metadata": {
    "id": "ac63826f"
   },
   "source": [
    "Describe brevemente tus hallazgos y lo que hiciste con ellos.\n",
    "\n",
    "El df 'aisles' no tiene valores nulos, cada pasillo está asignado a un número de ID."
   ]
  },
  {
   "cell_type": "markdown",
   "id": "274cd06a",
   "metadata": {
    "id": "274cd06a"
   },
   "source": [
    "### `order_products` data frame"
   ]
  },
  {
   "cell_type": "code",
   "execution_count": 24,
   "id": "52326689-84a8-4b8f-a881-7c68780f62c9",
   "metadata": {
    "id": "52326689-84a8-4b8f-a881-7c68780f62c9"
   },
   "outputs": [
    {
     "data": {
      "text/plain": [
       "np.int64(0)"
      ]
     },
     "execution_count": 24,
     "metadata": {},
     "output_type": "execute_result"
    }
   ],
   "source": [
    "# Revisa si hay filas totalmente duplicadas\n",
    "df_orders.duplicated().sum()"
   ]
  },
  {
   "cell_type": "code",
   "execution_count": 25,
   "id": "7b861391",
   "metadata": {
    "id": "7b861391"
   },
   "outputs": [
    {
     "data": {
      "text/plain": [
       "order_id\n",
       "61355      127\n",
       "3308010    115\n",
       "2136777    108\n",
       "171934     104\n",
       "1959075     98\n",
       "          ... \n",
       "1933026      1\n",
       "2528686      1\n",
       "2273859      1\n",
       "3369939      1\n",
       "818830       1\n",
       "Name: count, Length: 450046, dtype: int64"
      ]
     },
     "execution_count": 25,
     "metadata": {},
     "output_type": "execute_result"
    }
   ],
   "source": [
    "# Vuelve a verificar si hay cualquier otro duplicado engañoso\n",
    "df_orders['order_id'].value_counts()"
   ]
  },
  {
   "cell_type": "markdown",
   "id": "0b890492",
   "metadata": {
    "id": "0b890492"
   },
   "source": [
    "Describe brevemente tus hallazgos y lo que hiciste con ellos.\n",
    "\n",
    "En este DF no encontré duplicados, supuse que la columna de order_id era única, pero utilicé la función nunique() para visualizar la cantidad de valores únicos y el total fue de 450,046 órdenes, posterior a ello utilicé value_counts() para revisar la frecuencia de las órdenes y la órden 61355 aparece 127 veces, la asigné a un nuevo DF para ver si encontraba algún duplicado pero nada, sólo los productos ordenados pero al final no son duplicados."
   ]
  },
  {
   "cell_type": "markdown",
   "id": "1e46de76",
   "metadata": {
    "id": "1e46de76"
   },
   "source": [
    "## Encuentra y elimina los valores ausentes\n",
    "\n",
    "Al trabajar con valores duplicados, pudimos observar que también nos falta investigar valores ausentes:\n",
    "\n",
    "* La columna `'product_name'` de la tabla products.\n",
    "* La columna `'days_since_prior_order'` de la tabla orders.\n",
    "* La columna `'add_to_cart_order'` de la tabla order_productos."
   ]
  },
  {
   "cell_type": "markdown",
   "id": "c0aebd78",
   "metadata": {
    "id": "c0aebd78"
   },
   "source": [
    "### `products` data frame"
   ]
  },
  {
   "cell_type": "code",
   "execution_count": 26,
   "id": "fe4a8b0f",
   "metadata": {
    "id": "fe4a8b0f"
   },
   "outputs": [
    {
     "data": {
      "text/plain": [
       "np.int64(1258)"
      ]
     },
     "execution_count": 26,
     "metadata": {},
     "output_type": "execute_result"
    }
   ],
   "source": [
    "# Encuentra los valores ausentes en la columna 'product_name'\n",
    "df_products['product_name'].isna().sum()"
   ]
  },
  {
   "cell_type": "markdown",
   "id": "-A6x1AbJhjkp",
   "metadata": {
    "id": "-A6x1AbJhjkp"
   },
   "source": [
    "Describe brevemente cuáles son tus hallazgos.\n",
    "\n",
    "Tenemos 1258 valores nulos en la columna 'product_name', probablemente estén relacionados con el ID 100."
   ]
  },
  {
   "cell_type": "code",
   "execution_count": 27,
   "id": "e96167bc",
   "metadata": {
    "id": "e96167bc"
   },
   "outputs": [
    {
     "data": {
      "text/plain": [
       "np.int64(1258)"
      ]
     },
     "execution_count": 27,
     "metadata": {},
     "output_type": "execute_result"
    }
   ],
   "source": [
    "#  ¿Todos los nombres de productos ausentes están relacionados con el pasillo con ID 100?\n",
    "df_pasillo_100 = df_products[df_products['aisle_id'] == 100]\n",
    "df_pasillo_100['aisle_id'].count()"
   ]
  },
  {
   "cell_type": "markdown",
   "id": "WRpIfXRphpSL",
   "metadata": {
    "id": "WRpIfXRphpSL"
   },
   "source": [
    "Describe brevemente cuáles son tus hallazgos.\n",
    "\n",
    "La suposición es correcta, son productos con valores NaN que no tienen un nombre de identificador y se asignan al pasillo 100 de 'missing'."
   ]
  },
  {
   "cell_type": "code",
   "execution_count": 28,
   "id": "8fd0a541",
   "metadata": {
    "id": "8fd0a541"
   },
   "outputs": [
    {
     "data": {
      "text/plain": [
       "np.int64(1258)"
      ]
     },
     "execution_count": 28,
     "metadata": {},
     "output_type": "execute_result"
    }
   ],
   "source": [
    "# ¿Todos los nombres de productos ausentes están relacionados con el departamento con ID 21?\n",
    "df_depto_21 = df_products[df_products['department_id'] == 21]\n",
    "df_depto_21['department_id'].count()"
   ]
  },
  {
   "cell_type": "markdown",
   "id": "qDpdYn1Fht_I",
   "metadata": {
    "id": "qDpdYn1Fht_I"
   },
   "source": [
    "Describe brevemente cuáles son tus hallazgos.\n",
    "\n",
    "Los 1258 valores nulos pertecenen al departamento 21 de 'missing'"
   ]
  },
  {
   "cell_type": "code",
   "execution_count": 29,
   "id": "325c3464",
   "metadata": {
    "id": "325c3464"
   },
   "outputs": [
    {
     "name": "stdout",
     "output_type": "stream",
     "text": [
      "20    missing\n",
      "Name: department, dtype: object\n",
      "99    missing\n",
      "Name: aisle, dtype: object\n"
     ]
    }
   ],
   "source": [
    "# Usa las tablas department y aisle para revisar los datos del pasillo con ID 100 y el departamento con ID 21.\n",
    "df_id_21 = df_departments[df_departments['department_id'] == 21]['department']\n",
    "df_aisle_100 = df_aisles[df_aisles['aisle_id'] == 100]['aisle']\n",
    "\n",
    "print(df_id_21)\n",
    "print(df_aisle_100)"
   ]
  },
  {
   "cell_type": "markdown",
   "id": "nqhSTUPhhvEJ",
   "metadata": {
    "id": "nqhSTUPhhvEJ"
   },
   "source": [
    "Describe brevemente cuáles son tus hallazgos.\n",
    "\n",
    "Los productos con nombres ausentes pertenecen a un pasillo y departamentos desconocidos.\n",
    "La cantidad de valores en la columna 'aisle_id' = 100 es de 1258 y la cantidad de valores en la columna 'department_id' = 21 es de 1258, la misma que la cantidad de valores nulos en 'product_name' "
   ]
  },
  {
   "cell_type": "code",
   "execution_count": 30,
   "id": "6b295120",
   "metadata": {
    "id": "6b295120"
   },
   "outputs": [
    {
     "name": "stdout",
     "output_type": "stream",
     "text": [
      "<class 'pandas.core.frame.DataFrame'>\n",
      "RangeIndex: 49694 entries, 0 to 49693\n",
      "Data columns (total 4 columns):\n",
      " #   Column         Non-Null Count  Dtype \n",
      "---  ------         --------------  ----- \n",
      " 0   product_id     49694 non-null  int64 \n",
      " 1   product_name   49694 non-null  object\n",
      " 2   aisle_id       49694 non-null  int64 \n",
      " 3   department_id  49694 non-null  int64 \n",
      "dtypes: int64(3), object(1)\n",
      "memory usage: 1.5+ MB\n"
     ]
    }
   ],
   "source": [
    "# Completa los nombres de productos ausentes con 'Unknown'\n",
    "df_products['product_name'] = df_products['product_name'].fillna('Unknown')\n",
    "df_products.info()\n"
   ]
  },
  {
   "cell_type": "markdown",
   "id": "fc70e5ad",
   "metadata": {
    "id": "fc70e5ad"
   },
   "source": [
    "Describe brevemente tus hallazgos y lo que hiciste con ellos.\n",
    "\n",
    "Encontramos valores ausentes en la columna product_name, estos correspondían al pasillo 100 y al departamento 21 con información desconocida, reemplazamos estos valores con un string de 'desconocido'."
   ]
  },
  {
   "cell_type": "markdown",
   "id": "7eb45c86",
   "metadata": {
    "id": "7eb45c86"
   },
   "source": [
    "### `instacart` data frame"
   ]
  },
  {
   "cell_type": "code",
   "execution_count": 31,
   "id": "93e41d96",
   "metadata": {
    "id": "93e41d96"
   },
   "outputs": [
    {
     "data": {
      "text/plain": [
       "order_id                      0\n",
       "user_id                       0\n",
       "order_number                  0\n",
       "order_dow                     0\n",
       "order_hour_of_day             0\n",
       "days_since_prior_order    28817\n",
       "dtype: int64"
      ]
     },
     "execution_count": 31,
     "metadata": {},
     "output_type": "execute_result"
    }
   ],
   "source": [
    "# Encuentra los valores ausentes\n",
    "df_instacart.isna().sum()"
   ]
  },
  {
   "cell_type": "code",
   "execution_count": 32,
   "id": "166e5a86",
   "metadata": {
    "id": "166e5a86"
   },
   "outputs": [
    {
     "name": "stdout",
     "output_type": "stream",
     "text": [
      "[ 0.  1.  2.  3.  4.  5.  6.  7.  8.  9. 10. 11. 12. 13. 14. 15. 16. 17.\n",
      " 18. 19. 20. 21. 22. 23. 24. 25. 26. 27. 28. 29. 30. nan]\n"
     ]
    }
   ],
   "source": [
    "# ¿Hay algún valor ausente que no sea el primer pedido del cliente?\n",
    "valores_unicos = df_instacart['days_since_prior_order'].sort_values().unique()\n",
    "df_instacart['days_since_prior_order'] = df_instacart['days_since_prior_order'].fillna('first_purchase')\n",
    "print(valores_unicos)"
   ]
  },
  {
   "cell_type": "markdown",
   "id": "4e23d089",
   "metadata": {
    "id": "4e23d089"
   },
   "source": [
    "Describe brevemente tus hallazgos y lo que hiciste con ellos.\n",
    "\n",
    "Los clientes que apenas realizan su primer pedido tienen valor 1 en 'order_number' y 'NaN' en la columna 'days_since_prior_order', lo comprobé utilizando un bucle y un filtrado mediante isin():\n",
    "\n",
    "\n",
    "floor = []\n",
    "x = 1\n",
    "while x < 65:\n",
    "    float(x)\n",
    "    floor.append(x)\n",
    "    x += 1.0\n",
    "\n",
    "df_nan = df_instacart[~df_instacart['days_since_prior_order'].isin(floor)][['days_since_prior_order','order_id','user_id', 'order_number', 'order_dow', 'order_hour_of_day']]\n",
    "df_nan\n",
    "\n",
    "Adicional eliminé los valores ausente y los cambié por el string 'first_purchase'\n",
    "df_instacart['days_since_prior_order'] = df_instacart['days_since_prior_order'].fillna('first_purchase')\n"
   ]
  },
  {
   "cell_type": "markdown",
   "id": "69dc9ca4",
   "metadata": {
    "id": "69dc9ca4"
   },
   "source": [
    "### `order_products` data frame"
   ]
  },
  {
   "cell_type": "code",
   "execution_count": 33,
   "id": "b8240253",
   "metadata": {
    "id": "b8240253"
   },
   "outputs": [
    {
     "data": {
      "text/plain": [
       "order_id               0\n",
       "product_id             0\n",
       "add_to_cart_order    836\n",
       "reordered              0\n",
       "dtype: int64"
      ]
     },
     "execution_count": 33,
     "metadata": {},
     "output_type": "execute_result"
    }
   ],
   "source": [
    "# Encuentra los valores ausentes\n",
    "df_orders.isna().sum()"
   ]
  },
  {
   "cell_type": "code",
   "execution_count": 34,
   "id": "9a78e5ee",
   "metadata": {
    "id": "9a78e5ee"
   },
   "outputs": [
    {
     "name": "stdout",
     "output_type": "stream",
     "text": [
      "Valor mínimo para add_to_cart es de:  1.0\n",
      "Valor máximo para add_to_cart es de: 64.0\n"
     ]
    }
   ],
   "source": [
    "# ¿Cuáles son los valores mínimos y máximos en esta columna?\n",
    "print('Valor mínimo para add_to_cart es de: ', df_orders['add_to_cart_order'].min())\n",
    "print('Valor máximo para add_to_cart es de:',  df_orders['add_to_cart_order'].max())"
   ]
  },
  {
   "cell_type": "markdown",
   "id": "-Z2Ja215jW78",
   "metadata": {
    "id": "-Z2Ja215jW78"
   },
   "source": [
    "Describe brevemente cuáles son tus hallazgos.\n",
    "\n",
    "El valor mínimo en 'add_to_cart_order' corresponde a 1 esto pueder ser para identificar los carros con productos ordenados teniendo como límite máximo de 64 productos por carrito y el valor NaN puede ser porque sólo se eligió el producto pero no se creó un carro de compra."
   ]
  },
  {
   "cell_type": "code",
   "execution_count": 35,
   "id": "ab9d0c2b",
   "metadata": {
    "id": "ab9d0c2b"
   },
   "outputs": [
    {
     "name": "stdout",
     "output_type": "stream",
     "text": [
      "70\n"
     ]
    },
    {
     "data": {
      "text/plain": [
       "array([2449164, 1968313, 2926893, 1717990, 1959075,  844733,   61355,\n",
       "        936852,  264710, 1564093,  129627,  293169, 2849370, 1386261,\n",
       "       3308010,  903110, 2136777, 3347453, 1888628,  165801, 2094761,\n",
       "       1038146, 2997021,  813364, 2256933,  171934, 2409109, 1730767,\n",
       "       1169835,  733526,  404157, 3125735,  747668, 1800005, 1961723,\n",
       "        871281,  388234, 1648217, 1477139,  102236, 1021563, 1832957,\n",
       "       2721963,  678116, 1220886, 1673227, 2999801, 1633337, 2470674,\n",
       "       2625444, 1677118, 2479011, 3383594, 1183255, 1713430, 2652650,\n",
       "       1598369, 1916118,  854647, 1302315,  888470,  180546, 2621907,\n",
       "       1308785, 2729254,    9310, 2170451, 2979697, 1625713, 1529171])"
      ]
     },
     "execution_count": 35,
     "metadata": {},
     "output_type": "execute_result"
    }
   ],
   "source": [
    "# Guarda todas las IDs de pedidos que tengan un valor ausente en 'add_to_cart_order'\n",
    "f = []\n",
    "x = 1\n",
    "while x < 65:\n",
    "    float(x)\n",
    "    f.append(x)\n",
    "    x += 1.0\n",
    "\n",
    "df_id = df_orders[~df_orders['add_to_cart_order'].isin(f)]['order_id'].unique()\n",
    "print(len(df_id))\n",
    "df_id"
   ]
  },
  {
   "cell_type": "code",
   "execution_count": 36,
   "id": "54c31695",
   "metadata": {
    "id": "54c31695"
   },
   "outputs": [
    {
     "name": "stdout",
     "output_type": "stream",
     "text": [
      "order_id\n",
      "9310        65\n",
      "747668      65\n",
      "888470      65\n",
      "2621907     65\n",
      "2170451     65\n",
      "          ... \n",
      "1959075     98\n",
      "171934     104\n",
      "2136777    108\n",
      "3308010    115\n",
      "61355      127\n",
      "Name: product_id, Length: 70, dtype: int64\n",
      "[ 65  66  67  68  69  70  71  72  73  74  75  76  77  78  80  85  86  87\n",
      "  91  92  95  98 104 108 115 127]\n",
      "El valor mínimo de productos ordenados es de 65\n",
      "Si, todos los pedidos con valores ausentes tienen más de 64 productos\n"
     ]
    }
   ],
   "source": [
    "# Agrupa todos los pedidos con datos ausentes por su ID de pedido.\n",
    "new_df = df_orders[df_orders['order_id'].isin(df_id)]\n",
    "new_df_1 = new_df.groupby('order_id')['product_id'].count()\n",
    "print(new_df_1.sort_values())\n",
    "# Cuenta el número de 'product_id' en cada pedido y revisa el valor mínimo del conteo.\n",
    "print(new_df_1.sort_values().unique())\n",
    "print('El valor mínimo de productos ordenados es de 65')\n",
    "# ¿Todos los pedidos con valores ausentes tienen más de 64 productos?\n",
    "print('Si, todos los pedidos con valores ausentes tienen más de 64 productos')"
   ]
  },
  {
   "cell_type": "markdown",
   "id": "p9V6pddtjglj",
   "metadata": {
    "id": "p9V6pddtjglj"
   },
   "source": [
    "Describe brevemente cuáles son tus hallazgos.\n",
    "\n",
    "La cantidad de órdenes con valores ausentes es de 70.\n",
    "Las órdenes con valores ausentes tienen más de 64 productos. descubrimos que el contador secuencial de productos agregados va de 1 a 64, entonces, todos los valores con más de 64 productos tienen valores nulos, porque la columna no los identifica como un valor permitido, tendríamos que ampliar el rango para evitar esos valores nulos."
   ]
  },
  {
   "cell_type": "code",
   "execution_count": 37,
   "id": "7a987d08",
   "metadata": {
    "id": "7a987d08"
   },
   "outputs": [
    {
     "name": "stdout",
     "output_type": "stream",
     "text": [
      "<class 'pandas.core.frame.DataFrame'>\n",
      "RangeIndex: 4545007 entries, 0 to 4545006\n",
      "Data columns (total 4 columns):\n",
      " #   Column             Non-Null Count    Dtype\n",
      "---  ------             --------------    -----\n",
      " 0   order_id           4545007 non-null  int64\n",
      " 1   product_id         4545007 non-null  int64\n",
      " 2   add_to_cart_order  4545007 non-null  int64\n",
      " 3   reordered          4545007 non-null  int64\n",
      "dtypes: int64(4)\n",
      "memory usage: 138.7 MB\n"
     ]
    }
   ],
   "source": [
    "# Remplaza los valores ausentes en la columna 'add_to_cart? con 999 y convierte la columna al tipo entero.\n",
    "df_orders['add_to_cart_order'] = df_orders['add_to_cart_order'].fillna(999)\n",
    "df_orders['add_to_cart_order'] = df_orders['add_to_cart_order'].astype(int)\n",
    "df_orders.info(show_counts = True)"
   ]
  },
  {
   "cell_type": "markdown",
   "id": "fea4bcc7",
   "metadata": {
    "id": "fea4bcc7"
   },
   "source": [
    "Describe brevemente tus hallazgos y lo que hiciste con ellos.\n",
    "Descubrimos que el contador secuencial de productos agregados va de 1 a 64, entonces, todos los valores con más de 64 productos tienen valores nulos, porque la columna no los identifica como un valor permitido."
   ]
  },
  {
   "cell_type": "markdown",
   "id": "RnplPFY1gSrb",
   "metadata": {
    "id": "RnplPFY1gSrb"
   },
   "source": [
    "## Conclusiones\n",
    "\n",
    "Escribe aquí tus conclusiones intermedias sobre el Paso 2. Preprocesamiento de los datos\n",
    "\n",
    "Los valores ausentes que tenemos en 'product_name' pertenecen al pasillo y departamento de información faltante, una vez que se identifiquen podremos eliminar esos valores desconocidos, adicional el contador secuencial de productos sólo va de 1 a 64, por lo que no asigna un valor a las compras con más de 64 productos, si extendiéramos el contador podríamos evitar estos valores ausentes o bien, restringir el límite de productos por orden a máximo 64.\n",
    "\n",
    "Tambien en la columna 'days_since_prior_order' tuvimos valores ausentes, esto debido a que no hay un valor asignado para aquelos clientes qur compran por primera vez, deberíamos establecer un valor para esa primera compra."
   ]
  },
  {
   "cell_type": "markdown",
   "id": "UjrOIwTcz3ri",
   "metadata": {
    "id": "UjrOIwTcz3ri"
   },
   "source": [
    "# Paso 3. Análisis de los datos\n",
    "\n",
    "Una vez los datos estén procesados y listos, haz el siguiente análisis:"
   ]
  },
  {
   "cell_type": "markdown",
   "id": "turkish-kidney",
   "metadata": {
    "id": "turkish-kidney"
   },
   "source": [
    "# [A] Fácil (deben completarse todos para aprobar)\n",
    "\n",
    "1. Verifica que los valores en las columnas `'order_hour_of_day'` y `'order_dow'` en la tabla orders sean razonables (es decir, `'order_hour_of_day'` oscile entre 0 y 23 y `'order_dow'` oscile entre 0 y 6).\n",
    "2. Crea un gráfico que muestre el número de personas que hacen pedidos dependiendo de la hora del día.\n",
    "3. Crea un gráfico que muestre qué día de la semana la gente hace sus compras.\n",
    "4. Crea un gráfico que muestre el tiempo que la gente espera hasta hacer su siguiente pedido, y comenta sobre los valores mínimos y máximos."
   ]
  },
  {
   "cell_type": "markdown",
   "id": "short-capability",
   "metadata": {
    "id": "short-capability"
   },
   "source": [
    "### [A1] Verifica que los valores sean sensibles"
   ]
  },
  {
   "cell_type": "code",
   "execution_count": 38,
   "id": "growing-fruit",
   "metadata": {
    "id": "growing-fruit"
   },
   "outputs": [
    {
     "data": {
      "text/plain": [
       "array([0, 1, 2, 3, 4, 5, 6])"
      ]
     },
     "execution_count": 38,
     "metadata": {},
     "output_type": "execute_result"
    }
   ],
   "source": [
    "df_instacart['order_dow'].sort_values().unique()"
   ]
  },
  {
   "cell_type": "code",
   "execution_count": 39,
   "id": "accessory-malaysia",
   "metadata": {
    "id": "accessory-malaysia"
   },
   "outputs": [
    {
     "data": {
      "text/plain": [
       "array([ 0,  1,  2,  3,  4,  5,  6,  7,  8,  9, 10, 11, 12, 13, 14, 15, 16,\n",
       "       17, 18, 19, 20, 21, 22, 23])"
      ]
     },
     "execution_count": 39,
     "metadata": {},
     "output_type": "execute_result"
    }
   ],
   "source": [
    "df_instacart['order_hour_of_day'].sort_values().unique()"
   ]
  },
  {
   "cell_type": "markdown",
   "id": "hmR2GNQ6lCsX",
   "metadata": {
    "id": "hmR2GNQ6lCsX"
   },
   "source": [
    "Escribe aquí tus conclusiones"
   ]
  },
  {
   "cell_type": "markdown",
   "id": "a6743a70",
   "metadata": {
    "id": "a6743a70"
   },
   "source": [
    "### [A2] Para cada hora del día, ¿cuántas personas hacen órdenes?"
   ]
  },
  {
   "cell_type": "code",
   "execution_count": 40,
   "id": "a36cca27",
   "metadata": {
    "id": "a36cca27"
   },
   "outputs": [
    {
     "data": {
      "image/png": "[encoded data removed]",
      "text/plain": [
       "<Figure size 640x480 with 1 Axes>"
      ]
     },
     "metadata": {},
     "output_type": "display_data"
    }
   ],
   "source": [
    "pedidos_hora_dia = df_instacart.groupby('order_hour_of_day')['user_id'].count()\n",
    "\n",
    "pedidos_hora_dia.plot(title = 'Cantidad de usuarios por hora' ,xlabel = 'Hora del día', ylabel = 'Número de Usuarios', kind = 'bar', rot = 0)                 \n",
    "plt.show()"
   ]
  },
  {
   "cell_type": "markdown",
   "id": "11270eed",
   "metadata": {
    "id": "11270eed"
   },
   "source": [
    "Escribe aquí tus conclusiones\n",
    "\n",
    "Las hrs preferidas por los usuarios para hacer sus compras es entre las 9 am y 16:00 pm, las hrs con menor afluencia son de la media noche a las 6:00 am"
   ]
  },
  {
   "cell_type": "markdown",
   "id": "documented-command",
   "metadata": {
    "id": "documented-command"
   },
   "source": [
    "### [A3] ¿Qué día de la semana compran víveres las personas?"
   ]
  },
  {
   "cell_type": "code",
   "execution_count": 41,
   "id": "chief-digit",
   "metadata": {
    "id": "chief-digit"
   },
   "outputs": [
    {
     "data": {
      "image/png": "[encoded data removed]",
      "text/plain": [
       "<Figure size 640x480 with 1 Axes>"
      ]
     },
     "metadata": {},
     "output_type": "display_data"
    }
   ],
   "source": [
    "compras_dia = df_instacart.groupby('order_dow')['user_id'].count()\n",
    "\n",
    "compras_dia.plot(title = 'Cantidad de usuarios por día', xlabel = 'Día de la semana / 0 = Domingo', ylabel = 'Número de usuarios',kind = 'bar', rot = 0)\n",
    "\n",
    "plt.show()"
   ]
  },
  {
   "cell_type": "markdown",
   "id": "dominant-lightning",
   "metadata": {
    "id": "dominant-lightning"
   },
   "source": [
    "Escribe aquí tus conclusiones\n",
    "\n",
    "Los días preferidos por las personas son el Domingo y el Lunes, sin embargo, la cantidad de personas que compra en los demás días no son bajas, las cantidades son cercanas."
   ]
  },
  {
   "cell_type": "markdown",
   "id": "cutting-concert",
   "metadata": {
    "id": "cutting-concert"
   },
   "source": [
    "### [A4] ¿Cuánto tiempo esperan las personas hasta hacer otro pedido? Comenta sobre los valores mínimos y máximos."
   ]
  },
  {
   "cell_type": "code",
   "execution_count": 42,
   "id": "c231f523",
   "metadata": {
    "id": "c231f523"
   },
   "outputs": [
    {
     "name": "stdout",
     "output_type": "stream",
     "text": [
      "2640\n",
      "51337\n"
     ]
    },
    {
     "data": {
      "image/png": "[encoded data removed]",
      "text/plain": [
       "<Figure size 640x480 with 1 Axes>"
      ]
     },
     "metadata": {},
     "output_type": "display_data"
    }
   ],
   "source": [
    "days_next_shop = df_instacart.groupby('days_since_prior_order')['user_id'].count()\n",
    "\n",
    "print(days_next_shop.min())\n",
    "print(days_next_shop.max())\n",
    "\n",
    "days_next_shop.plot(title= 'Días antes de próxima compra', xlabel= 'Días' , ylabel= 'Cantidad de Usarios', kind = 'bar')\n",
    "\n",
    "plt.show()"
   ]
  },
  {
   "cell_type": "markdown",
   "id": "discrete-vertex",
   "metadata": {
    "id": "discrete-vertex"
   },
   "source": [
    "Escribe aquí tus conclusiones\n",
    "\n",
    "La gente prefiere realizar sus compras cada 30 días, esto puede ser por su cobro de salario mensual o bonificación de prestaciones para compra de víveres.\n",
    "El día 26 es el menor, esto puede ser porque la genta ya destinó su salario al pago de servicios y víveres mensual y está en espera del próximo cobro."
   ]
  },
  {
   "cell_type": "markdown",
   "id": "tight-staff",
   "metadata": {
    "id": "tight-staff"
   },
   "source": [
    "# [B] Intermedio (deben completarse todos para aprobar)\n",
    "\n",
    "1. ¿Existe alguna diferencia entre las distribuciones `'order_hour_of_day'` de los miércoles y los sábados? Traza gráficos de barra de `'order_hour_of_day'` para ambos días en la misma figura y describe las diferencias que observes.\n",
    "2. Grafica la distribución para el número de órdenes que hacen los clientes (es decir, cuántos clientes hicieron solo 1 pedido, cuántos hicieron 2, cuántos 3, y así sucesivamente...).\n",
    "3. ¿Cuáles son los 20 principales productos que se piden con más frecuencia (muestra su identificación y nombre)?"
   ]
  },
  {
   "cell_type": "markdown",
   "id": "packed-classic",
   "metadata": {
    "id": "packed-classic"
   },
   "source": [
    "### [B1] Diferencia entre miércoles y sábados para  `'order_hour_of_day'`. Traza gráficos de barra para los dos días y describe las diferencias que veas."
   ]
  },
  {
   "cell_type": "code",
   "execution_count": 43,
   "id": "d89b8403",
   "metadata": {
    "id": "d89b8403"
   },
   "outputs": [],
   "source": [
    "dist_days = df_instacart.groupby(['order_dow','order_hour_of_day'])['user_id'].count()"
   ]
  },
  {
   "cell_type": "code",
   "execution_count": 44,
   "id": "94e54e8a",
   "metadata": {
    "id": "94e54e8a"
   },
   "outputs": [],
   "source": [
    "dia_mier = dist_days.loc[3]"
   ]
  },
  {
   "cell_type": "code",
   "execution_count": 45,
   "id": "797c90a8",
   "metadata": {
    "id": "797c90a8"
   },
   "outputs": [],
   "source": [
    "dia_sat = dist_days.loc[6]"
   ]
  },
  {
   "cell_type": "code",
   "execution_count": 46,
   "id": "35bcea30",
   "metadata": {
    "id": "35bcea30"
   },
   "outputs": [
    {
     "data": {
      "image/png": "[encoded data removed]",
      "text/plain": [
       "<Figure size 640x480 with 1 Axes>"
      ]
     },
     "metadata": {},
     "output_type": "display_data"
    }
   ],
   "source": [
    "df_combined = pd.DataFrame({'Miércoles': dia_mier,\n",
    "                            'Sábado': dia_sat}\n",
    "                           )\n",
    "\n",
    "df_combined.plot(title='Cantidad de Usuarios por hora (Miércoles / Sábado)',\n",
    "                 xlabel = 'Horas del día',\n",
    "                 ylabel = 'Usuarios',\n",
    "                 kind = 'bar',\n",
    "                 alpha = 0.5,\n",
    "                 rot = 0\n",
    "                 )\n",
    "\n",
    "plt.show()"
   ]
  },
  {
   "cell_type": "markdown",
   "id": "charitable-congo",
   "metadata": {
    "id": "charitable-congo"
   },
   "source": [
    "Escribe aquí tus conclusiones\n",
    "\n",
    "Las gráficas siguen una trayectoria y distribución similar, excepto que en Miércoles hay una caída entre 11:00 y 15:00, puede estar relacionado al momento de descanso de los trabajadores."
   ]
  },
  {
   "cell_type": "markdown",
   "id": "e3891143",
   "metadata": {
    "id": "e3891143"
   },
   "source": [
    "### [B2] ¿Cuál es la distribución para el número de pedidos por cliente?"
   ]
  },
  {
   "cell_type": "code",
   "execution_count": 47,
   "id": "d8c26c23",
   "metadata": {
    "id": "d8c26c23"
   },
   "outputs": [],
   "source": [
    "ordenes_por_usuario = df_instacart.groupby('user_id')['order_id'].count()"
   ]
  },
  {
   "cell_type": "code",
   "execution_count": 48,
   "id": "00e69a66",
   "metadata": {
    "id": "00e69a66"
   },
   "outputs": [
    {
     "data": {
      "image/png": "[encoded data removed]",
      "text/plain": [
       "<Figure size 1000x500 with 1 Axes>"
      ]
     },
     "metadata": {},
     "output_type": "display_data"
    }
   ],
   "source": [
    "frecuencia_ordenes = ordenes_por_usuario.value_counts()\n",
    "\n",
    "frecuencia_ordenes.plot(title = 'Pedidos por cliente',\n",
    "                        xlabel = 'Cantidad de pedidos',\n",
    "                        ylabel = 'Cantidad de usuarios',\n",
    "                        kind= 'bar',\n",
    "                        figsize = [10,5],\n",
    "                        rot = 0\n",
    "                       )\n",
    "\n",
    "plt.show()"
   ]
  },
  {
   "cell_type": "markdown",
   "id": "d2eff7d5",
   "metadata": {
    "id": "d2eff7d5"
   },
   "source": [
    "Escribe aquí tus conclusiones\n",
    "\n",
    "Hay muchos cliente que realizan por primera vez su primer pedido, o que sólo realizaron una compra y no volvieron a comprar."
   ]
  },
  {
   "cell_type": "markdown",
   "id": "54a0319c",
   "metadata": {
    "id": "54a0319c"
   },
   "source": [
    "### [B3] ¿Cuáles son los 20 productos más populares (muestra su ID y nombre)?"
   ]
  },
  {
   "cell_type": "code",
   "execution_count": 49,
   "id": "exterior-arizona",
   "metadata": {
    "id": "exterior-arizona",
    "scrolled": true
   },
   "outputs": [],
   "source": [
    "product_name = df_products.merge(df_orders, on = 'product_id')"
   ]
  },
  {
   "cell_type": "code",
   "execution_count": 50,
   "id": "universal-facial",
   "metadata": {
    "id": "universal-facial"
   },
   "outputs": [],
   "source": [
    "qty_products = product_name.groupby(['product_id', 'product_name'])['order_id'].count()"
   ]
  },
  {
   "cell_type": "code",
   "execution_count": 51,
   "id": "bbcdd20b",
   "metadata": {
    "id": "bbcdd20b"
   },
   "outputs": [
    {
     "data": {
      "text/plain": [
       "product_id  product_name            \n",
       "24852       BANANA                      66050\n",
       "13176       BAG OF ORGANIC BANANAS      53297\n",
       "21137       ORGANIC STRAWBERRIES        37039\n",
       "21903       ORGANIC BABY SPINACH        33971\n",
       "47209       ORGANIC HASS AVOCADO        29773\n",
       "47766       ORGANIC AVOCADO             24689\n",
       "47626       LARGE LEMON                 21495\n",
       "16797       STRAWBERRIES                20018\n",
       "26209       LIMES                       19690\n",
       "27845       ORGANIC WHOLE MILK          19600\n",
       "27966       ORGANIC RASPBERRIES         19197\n",
       "22935       ORGANIC YELLOW ONION        15898\n",
       "24964       ORGANIC GARLIC              15292\n",
       "45007       ORGANIC ZUCCHINI            14584\n",
       "39275       ORGANIC BLUEBERRIES         13879\n",
       "49683       CUCUMBER KIRBY              13675\n",
       "28204       ORGANIC FUJI APPLE          12544\n",
       "5876        ORGANIC LEMON               12232\n",
       "8277        APPLE HONEYCRISP ORGANIC    11993\n",
       "40706       ORGANIC GRAPE TOMATOES      11781\n",
       "Name: order_id, dtype: int64"
      ]
     },
     "execution_count": 51,
     "metadata": {},
     "output_type": "execute_result"
    }
   ],
   "source": [
    "top_products = qty_products.sort_values(ascending=False)\n",
    "\n",
    "top_products.head(20)"
   ]
  },
  {
   "cell_type": "markdown",
   "id": "7df00f47",
   "metadata": {
    "id": "7df00f47"
   },
   "source": [
    "Escribe aquí tus conclusiones\n",
    "\n",
    "El TOP 20 de productos más vendidos pertecen a Frutas y verduras, probablemente mucha gente realice compras de último minuto por estos productos que no consiguió en un mercado o bien que sólo compran este tipo de productos en el Supermercado para su consumo mensual."
   ]
  },
  {
   "cell_type": "markdown",
   "id": "gross-theme",
   "metadata": {
    "id": "gross-theme"
   },
   "source": [
    "# [C] Difícil (deben completarse todos para aprobar)\n",
    "\n",
    "1. ¿Cuántos artículos suelen comprar las personas en un pedido? ¿Cómo es la distribución?\n",
    "2. ¿Cuáles son los 20 principales artículos que vuelven a pedirse con mayor frecuencia (muestra sus nombres e IDs de los productos)?\n",
    "3. Para cada producto, ¿cuál es la tasa de repetición del pedido (número de repeticiones de pedido/total de pedidos?\n",
    "4. Para cada cliente, ¿qué proporción de los productos que pidió ya los había pedido? Calcula la tasa de repetición de pedido para cada usuario en lugar de para cada producto.\n",
    "5. ¿Cuáles son los 20 principales artículos que la gente pone primero en sus carritos (muestra las IDs de los productos, sus nombres, y el número de veces en que fueron el primer artículo en añadirse al carrito)?"
   ]
  },
  {
   "cell_type": "markdown",
   "id": "romantic-deposit",
   "metadata": {
    "id": "romantic-deposit"
   },
   "source": [
    "### [C1] ¿Cuántos artículos compran normalmente las personas en un pedido? ¿Cómo es la distribución?"
   ]
  },
  {
   "cell_type": "code",
   "execution_count": 52,
   "id": "virtual-punch",
   "metadata": {
    "id": "virtual-punch"
   },
   "outputs": [],
   "source": [
    "product_cart = product_name.merge(df_instacart, on = 'order_id')"
   ]
  },
  {
   "cell_type": "code",
   "execution_count": 53,
   "id": "sensitive-breathing",
   "metadata": {
    "id": "sensitive-breathing"
   },
   "outputs": [],
   "source": [
    "art_x_pedido = product_cart.groupby(['order_id'])['product_id'].count()"
   ]
  },
  {
   "cell_type": "code",
   "execution_count": 54,
   "id": "completed-frank",
   "metadata": {
    "id": "completed-frank"
   },
   "outputs": [
    {
     "data": {
      "image/png": "[encoded data removed]",
      "text/plain": [
       "<Figure size 1200x500 with 1 Axes>"
      ]
     },
     "metadata": {},
     "output_type": "display_data"
    }
   ],
   "source": [
    "frecuencia_articulos = art_x_pedido.value_counts().sort_index()\n",
    "\n",
    "frecuencia_articulos.plot(title = 'Productos por pedido',\n",
    "                          xlabel = 'Cantidad de productos',\n",
    "                          ylabel = 'Cantidad de pedidos',\n",
    "                          \n",
    "                          figsize = [12,5]\n",
    "                         )\n",
    "\n",
    "plt.show()"
   ]
  },
  {
   "cell_type": "markdown",
   "id": "designed-mortality",
   "metadata": {
    "id": "designed-mortality"
   },
   "source": [
    "Escribe aquí tus conclusiones\n",
    "\n",
    "La gente suele comprar entre 1 y 10 productos por orden, teniendo como valor más alto el de 5 productos por pedido.\n",
    "Mientras más grande es la cantidad de productos por orden es menor la frecuencia."
   ]
  },
  {
   "cell_type": "markdown",
   "id": "5e6b5537",
   "metadata": {
    "id": "5e6b5537"
   },
   "source": [
    "### [C2] ¿Cuáles son los 20 principales artículos que vuelven a pedirse con mayor frecuencia (muestra sus nombres e IDs de los productos)?"
   ]
  },
  {
   "cell_type": "code",
   "execution_count": 55,
   "id": "9374e55a",
   "metadata": {
    "id": "9374e55a"
   },
   "outputs": [
    {
     "name": "stdout",
     "output_type": "stream",
     "text": [
      "<class 'pandas.core.frame.DataFrame'>\n",
      "RangeIndex: 4545007 entries, 0 to 4545006\n",
      "Data columns (total 12 columns):\n",
      " #   Column                  Dtype \n",
      "---  ------                  ----- \n",
      " 0   product_id              int64 \n",
      " 1   product_name            object\n",
      " 2   aisle_id                int64 \n",
      " 3   department_id           int64 \n",
      " 4   order_id                int64 \n",
      " 5   add_to_cart_order       int64 \n",
      " 6   reordered               int64 \n",
      " 7   user_id                 int64 \n",
      " 8   order_number            int64 \n",
      " 9   order_dow               int64 \n",
      " 10  order_hour_of_day       int64 \n",
      " 11  days_since_prior_order  object\n",
      "dtypes: int64(10), object(2)\n",
      "memory usage: 416.1+ MB\n"
     ]
    }
   ],
   "source": [
    "product_cart.info()"
   ]
  },
  {
   "cell_type": "code",
   "execution_count": 56,
   "id": "possible-change",
   "metadata": {
    "id": "possible-change",
    "scrolled": true
   },
   "outputs": [
    {
     "name": "stdout",
     "output_type": "stream",
     "text": [
      "         product_id              product_name\n",
      "472335         5876             ORGANIC LEMON\n",
      "668493         8277  APPLE HONEYCRISP ORGANIC\n",
      "1057535       13176    BAG OF ORGANIC BANANAS\n",
      "1375650       16797              STRAWBERRIES\n",
      "1758703       21137      ORGANIC STRAWBERRIES\n",
      "1871602       21903      ORGANIC BABY SPINACH\n",
      "1992689       22935      ORGANIC YELLOW ONION\n",
      "2165829       24852                    BANANA\n",
      "2237416       24964            ORGANIC GARLIC\n",
      "2346518       26209                     LIMES\n",
      "2526791       27845        ORGANIC WHOLE MILK\n",
      "2551927       27966       ORGANIC RASPBERRIES\n",
      "2588589       28204        ORGANIC FUJI APPLE\n",
      "3525049       39275       ORGANIC BLUEBERRIES\n",
      "4062737       45007          ORGANIC ZUCCHINI\n",
      "4271572       47209      ORGANIC HASS AVOCADO\n",
      "4321233       47626               LARGE LEMON\n",
      "4355690       47766           ORGANIC AVOCADO\n",
      "4493027       49235       ORGANIC HALF & HALF\n",
      "4531171       49683            CUCUMBER KIRBY\n"
     ]
    }
   ],
   "source": [
    "reorder = product_cart[product_cart['reordered'] == 1]\n",
    "reorder_products = reorder['product_id'].value_counts().head(20)\n",
    "\n",
    "top_reorder_products = product_cart[product_cart['product_id'].isin(reorder_products.index)][['product_id','product_name']].drop_duplicates()\n",
    "\n",
    "print(top_reorder_products)"
   ]
  },
  {
   "cell_type": "markdown",
   "id": "80e70c74",
   "metadata": {
    "id": "80e70c74"
   },
   "source": [
    "Escribe aquí tus conclusiones\n",
    "\n",
    "El TOP de productos preferidos y reordenados es muy similar, pertecenen al segmento de frutas y verduras."
   ]
  },
  {
   "cell_type": "markdown",
   "id": "9d312b14",
   "metadata": {
    "id": "9d312b14"
   },
   "source": [
    "### [C3] Para cada producto, ¿cuál es la proporción de las veces que se pide y que se vuelve a pedir?"
   ]
  },
  {
   "cell_type": "code",
   "execution_count": 57,
   "id": "8ae9f4b1",
   "metadata": {
    "id": "8ae9f4b1"
   },
   "outputs": [],
   "source": [
    "total_orders = df_orders['product_id'].value_counts()\n",
    "total_reorder = df_orders[df_orders['reordered'] == 1]['product_id'].value_counts()\n",
    "reorder_proportion = total_reorder / total_orders\n",
    "reorder_proportion_df = pd.DataFrame(reorder_proportion).reset_index()"
   ]
  },
  {
   "cell_type": "code",
   "execution_count": 58,
   "id": "social-individual",
   "metadata": {
    "id": "social-individual"
   },
   "outputs": [
    {
     "data": {
      "text/html": [
       "<div>\n",
       "<style scoped>\n",
       "    .dataframe tbody tr th:only-of-type {\n",
       "        vertical-align: middle;\n",
       "    }\n",
       "\n",
       "    .dataframe tbody tr th {\n",
       "        vertical-align: top;\n",
       "    }\n",
       "\n",
       "    .dataframe thead th {\n",
       "        text-align: right;\n",
       "    }\n",
       "</style>\n",
       "<table border=\"1\" class=\"dataframe\">\n",
       "  <thead>\n",
       "    <tr style=\"text-align: right;\">\n",
       "      <th></th>\n",
       "      <th>product_id</th>\n",
       "      <th>product_name</th>\n",
       "      <th>reorder_proportion</th>\n",
       "    </tr>\n",
       "  </thead>\n",
       "  <tbody>\n",
       "    <tr>\n",
       "      <th>0</th>\n",
       "      <td>1</td>\n",
       "      <td>CHOCOLATE SANDWICH COOKIES</td>\n",
       "      <td>0.564286</td>\n",
       "    </tr>\n",
       "    <tr>\n",
       "      <th>1</th>\n",
       "      <td>2</td>\n",
       "      <td>ALL-SEASONS SALT</td>\n",
       "      <td>NaN</td>\n",
       "    </tr>\n",
       "    <tr>\n",
       "      <th>2</th>\n",
       "      <td>3</td>\n",
       "      <td>ROBUST GOLDEN UNSWEETENED OOLONG TEA</td>\n",
       "      <td>0.738095</td>\n",
       "    </tr>\n",
       "    <tr>\n",
       "      <th>3</th>\n",
       "      <td>4</td>\n",
       "      <td>SMART ONES CLASSIC FAVORITES MINI RIGATONI WIT...</td>\n",
       "      <td>0.510204</td>\n",
       "    </tr>\n",
       "    <tr>\n",
       "      <th>4</th>\n",
       "      <td>7</td>\n",
       "      <td>PURE COCONUT WATER WITH ORANGE</td>\n",
       "      <td>0.500000</td>\n",
       "    </tr>\n",
       "    <tr>\n",
       "      <th>...</th>\n",
       "      <td>...</td>\n",
       "      <td>...</td>\n",
       "      <td>...</td>\n",
       "    </tr>\n",
       "    <tr>\n",
       "      <th>45568</th>\n",
       "      <td>49690</td>\n",
       "      <td>HIGH PERFORMANCE ENERGY DRINK</td>\n",
       "      <td>0.800000</td>\n",
       "    </tr>\n",
       "    <tr>\n",
       "      <th>45569</th>\n",
       "      <td>49691</td>\n",
       "      <td>ORIGINAL PANCAKE &amp; WAFFLE MIX</td>\n",
       "      <td>0.430556</td>\n",
       "    </tr>\n",
       "    <tr>\n",
       "      <th>45570</th>\n",
       "      <td>49692</td>\n",
       "      <td>ORGANIC INSTANT OATMEAL LIGHT MAPLE BROWN SUGAR</td>\n",
       "      <td>0.416667</td>\n",
       "    </tr>\n",
       "    <tr>\n",
       "      <th>45571</th>\n",
       "      <td>49693</td>\n",
       "      <td>SPRING WATER BODY WASH</td>\n",
       "      <td>0.440000</td>\n",
       "    </tr>\n",
       "    <tr>\n",
       "      <th>45572</th>\n",
       "      <td>49694</td>\n",
       "      <td>BURRITO- STEAK &amp; CHEESE</td>\n",
       "      <td>0.333333</td>\n",
       "    </tr>\n",
       "  </tbody>\n",
       "</table>\n",
       "<p>45573 rows × 3 columns</p>\n",
       "</div>"
      ],
      "text/plain": [
       "       product_id                                       product_name  \\\n",
       "0               1                         CHOCOLATE SANDWICH COOKIES   \n",
       "1               2                                   ALL-SEASONS SALT   \n",
       "2               3               ROBUST GOLDEN UNSWEETENED OOLONG TEA   \n",
       "3               4  SMART ONES CLASSIC FAVORITES MINI RIGATONI WIT...   \n",
       "4               7                     PURE COCONUT WATER WITH ORANGE   \n",
       "...           ...                                                ...   \n",
       "45568       49690                      HIGH PERFORMANCE ENERGY DRINK   \n",
       "45569       49691                      ORIGINAL PANCAKE & WAFFLE MIX   \n",
       "45570       49692    ORGANIC INSTANT OATMEAL LIGHT MAPLE BROWN SUGAR   \n",
       "45571       49693                             SPRING WATER BODY WASH   \n",
       "45572       49694                            BURRITO- STEAK & CHEESE   \n",
       "\n",
       "       reorder_proportion  \n",
       "0                0.564286  \n",
       "1                     NaN  \n",
       "2                0.738095  \n",
       "3                0.510204  \n",
       "4                0.500000  \n",
       "...                   ...  \n",
       "45568            0.800000  \n",
       "45569            0.430556  \n",
       "45570            0.416667  \n",
       "45571            0.440000  \n",
       "45572            0.333333  \n",
       "\n",
       "[45573 rows x 3 columns]"
      ]
     },
     "execution_count": 58,
     "metadata": {},
     "output_type": "execute_result"
    }
   ],
   "source": [
    "reorder_proportion_df.columns = ['product_id', 'reorder_proportion']\n",
    "reorder_df = df_products[['product_id', 'product_name']].merge(reorder_proportion_df, on = 'product_id')\n",
    "reorder_df"
   ]
  },
  {
   "cell_type": "markdown",
   "id": "I10dEIAyldcO",
   "metadata": {
    "id": "I10dEIAyldcO"
   },
   "source": [
    "Escribe aquí tus conclusiones\n",
    "\n",
    "La gama de proporciones de reordenamiento muestra una diversidad en cómo los clientes perciben la necesidad de volver a comprar ciertos productos.\n",
    "\n",
    "Productos con proporciones cercanas a 0.4 a 0.6, indican una reordenación moderada, sugiriendo que los clientes pueden estar divididos en cuanto a su decisión de volver a comprar estos productos, productos entre 0.7 y 1 tienen una alta ordenación o preferencia por los clientes, teniendo un fuerte interés en volver a comprarlos y los productos con proporciones de 0 a 0.3 indican una reordenación baja, indicando que una vez comprados los clientes no tienen una buena experiencia con el producto y no vuelven a comprarlos, los productos con valores NaN pueden ser productos que nunca se hayan comprado o que falte información para un correcto análisis."
   ]
  },
  {
   "cell_type": "markdown",
   "id": "subject-boxing",
   "metadata": {
    "id": "subject-boxing"
   },
   "source": [
    "### [C4] Para cada cliente, ¿qué proporción de sus productos ya los había pedido?"
   ]
  },
  {
   "cell_type": "code",
   "execution_count": 59,
   "id": "medical-couple",
   "metadata": {
    "id": "medical-couple",
    "scrolled": true
   },
   "outputs": [],
   "source": [
    "productos_reordenados_cliente =  product_cart.groupby(['user_id', 'product_id'])['reordered'].count()\n",
    "total_productos_por_cliente = product_cart.groupby('user_id')['product_id'].count()\n",
    "proporción_cliente = productos_reordenados_cliente / total_productos_por_cliente"
   ]
  },
  {
   "cell_type": "code",
   "execution_count": 60,
   "id": "8892e4b4",
   "metadata": {
    "id": "8892e4b4"
   },
   "outputs": [
    {
     "data": {
      "text/html": [
       "<div>\n",
       "<style scoped>\n",
       "    .dataframe tbody tr th:only-of-type {\n",
       "        vertical-align: middle;\n",
       "    }\n",
       "\n",
       "    .dataframe tbody tr th {\n",
       "        vertical-align: top;\n",
       "    }\n",
       "\n",
       "    .dataframe thead th {\n",
       "        text-align: right;\n",
       "    }\n",
       "</style>\n",
       "<table border=\"1\" class=\"dataframe\">\n",
       "  <thead>\n",
       "    <tr style=\"text-align: right;\">\n",
       "      <th></th>\n",
       "      <th></th>\n",
       "      <th>0</th>\n",
       "    </tr>\n",
       "    <tr>\n",
       "      <th>user_id</th>\n",
       "      <th>product_id</th>\n",
       "      <th></th>\n",
       "    </tr>\n",
       "  </thead>\n",
       "  <tbody>\n",
       "    <tr>\n",
       "      <th rowspan=\"5\" valign=\"top\">2</th>\n",
       "      <th>9681</th>\n",
       "      <td>0.038462</td>\n",
       "    </tr>\n",
       "    <tr>\n",
       "      <th>12000</th>\n",
       "      <td>0.038462</td>\n",
       "    </tr>\n",
       "    <tr>\n",
       "      <th>13176</th>\n",
       "      <td>0.038462</td>\n",
       "    </tr>\n",
       "    <tr>\n",
       "      <th>16589</th>\n",
       "      <td>0.038462</td>\n",
       "    </tr>\n",
       "    <tr>\n",
       "      <th>20574</th>\n",
       "      <td>0.038462</td>\n",
       "    </tr>\n",
       "    <tr>\n",
       "      <th>...</th>\n",
       "      <th>...</th>\n",
       "      <td>...</td>\n",
       "    </tr>\n",
       "    <tr>\n",
       "      <th rowspan=\"5\" valign=\"top\">206209</th>\n",
       "      <th>39216</th>\n",
       "      <td>0.040000</td>\n",
       "    </tr>\n",
       "    <tr>\n",
       "      <th>40992</th>\n",
       "      <td>0.040000</td>\n",
       "    </tr>\n",
       "    <tr>\n",
       "      <th>41213</th>\n",
       "      <td>0.040000</td>\n",
       "    </tr>\n",
       "    <tr>\n",
       "      <th>41665</th>\n",
       "      <td>0.040000</td>\n",
       "    </tr>\n",
       "    <tr>\n",
       "      <th>43961</th>\n",
       "      <td>0.040000</td>\n",
       "    </tr>\n",
       "  </tbody>\n",
       "</table>\n",
       "<p>3381866 rows × 1 columns</p>\n",
       "</div>"
      ],
      "text/plain": [
       "                           0\n",
       "user_id product_id          \n",
       "2       9681        0.038462\n",
       "        12000       0.038462\n",
       "        13176       0.038462\n",
       "        16589       0.038462\n",
       "        20574       0.038462\n",
       "...                      ...\n",
       "206209  39216       0.040000\n",
       "        40992       0.040000\n",
       "        41213       0.040000\n",
       "        41665       0.040000\n",
       "        43961       0.040000\n",
       "\n",
       "[3381866 rows x 1 columns]"
      ]
     },
     "execution_count": 60,
     "metadata": {},
     "output_type": "execute_result"
    }
   ],
   "source": [
    "\n",
    "proporción_cliente_df = pd.DataFrame(proporción_cliente)\n",
    "proporción_cliente_df"
   ]
  },
  {
   "cell_type": "markdown",
   "id": "BgJSvXDsleXz",
   "metadata": {
    "id": "BgJSvXDsleXz"
   },
   "source": [
    "Escribe aquí tus conclusiones\n",
    "\n",
    "Mientras mayor sea la cantidad de veces que se ordena un producto, mayor es la proporción de ese producto para cada cliente."
   ]
  },
  {
   "cell_type": "markdown",
   "id": "92d35137",
   "metadata": {
    "id": "92d35137"
   },
   "source": [
    "### [C5] ¿Cuáles son los 20 principales artículos que las personas ponen primero en sus carritos?"
   ]
  },
  {
   "cell_type": "code",
   "execution_count": 61,
   "id": "0ae57274",
   "metadata": {
    "id": "0ae57274",
    "scrolled": true
   },
   "outputs": [],
   "source": [
    "first_product = df_orders[df_orders['add_to_cart_order'] == 1]\n",
    "first_product_order = first_product['product_id'].value_counts().reset_index()"
   ]
  },
  {
   "cell_type": "code",
   "execution_count": 62,
   "id": "forty-netherlands",
   "metadata": {
    "id": "forty-netherlands",
    "scrolled": true
   },
   "outputs": [
    {
     "data": {
      "text/plain": [
       "Index(['count', 'product_id', 'product_name', 'aisle_id', 'department_id'], dtype='object')"
      ]
     },
     "execution_count": 62,
     "metadata": {},
     "output_type": "execute_result"
    }
   ],
   "source": [
    "combined = first_product_order.merge(df_products, on = 'product_id')\n",
    "combined.columns = ['count', 'product_id', 'product_name', 'aisle_id', 'department_id']\n",
    "combined.columns"
   ]
  },
  {
   "cell_type": "code",
   "execution_count": 63,
   "id": "08e41ec2",
   "metadata": {
    "id": "08e41ec2"
   },
   "outputs": [
    {
     "data": {
      "text/html": [
       "<div>\n",
       "<style scoped>\n",
       "    .dataframe tbody tr th:only-of-type {\n",
       "        vertical-align: middle;\n",
       "    }\n",
       "\n",
       "    .dataframe tbody tr th {\n",
       "        vertical-align: top;\n",
       "    }\n",
       "\n",
       "    .dataframe thead th {\n",
       "        text-align: right;\n",
       "    }\n",
       "</style>\n",
       "<table border=\"1\" class=\"dataframe\">\n",
       "  <thead>\n",
       "    <tr style=\"text-align: right;\">\n",
       "      <th></th>\n",
       "      <th>count</th>\n",
       "      <th>product_id</th>\n",
       "      <th>product_name</th>\n",
       "      <th>aisle_id</th>\n",
       "      <th>department_id</th>\n",
       "    </tr>\n",
       "  </thead>\n",
       "  <tbody>\n",
       "    <tr>\n",
       "      <th>0</th>\n",
       "      <td>24852</td>\n",
       "      <td>15562</td>\n",
       "      <td>BANANA</td>\n",
       "      <td>24</td>\n",
       "      <td>4</td>\n",
       "    </tr>\n",
       "    <tr>\n",
       "      <th>1</th>\n",
       "      <td>13176</td>\n",
       "      <td>11026</td>\n",
       "      <td>BAG OF ORGANIC BANANAS</td>\n",
       "      <td>24</td>\n",
       "      <td>4</td>\n",
       "    </tr>\n",
       "    <tr>\n",
       "      <th>2</th>\n",
       "      <td>27845</td>\n",
       "      <td>4363</td>\n",
       "      <td>ORGANIC WHOLE MILK</td>\n",
       "      <td>84</td>\n",
       "      <td>16</td>\n",
       "    </tr>\n",
       "    <tr>\n",
       "      <th>3</th>\n",
       "      <td>21137</td>\n",
       "      <td>3946</td>\n",
       "      <td>ORGANIC STRAWBERRIES</td>\n",
       "      <td>24</td>\n",
       "      <td>4</td>\n",
       "    </tr>\n",
       "    <tr>\n",
       "      <th>4</th>\n",
       "      <td>47209</td>\n",
       "      <td>3390</td>\n",
       "      <td>ORGANIC HASS AVOCADO</td>\n",
       "      <td>24</td>\n",
       "      <td>4</td>\n",
       "    </tr>\n",
       "    <tr>\n",
       "      <th>5</th>\n",
       "      <td>21903</td>\n",
       "      <td>3336</td>\n",
       "      <td>ORGANIC BABY SPINACH</td>\n",
       "      <td>123</td>\n",
       "      <td>4</td>\n",
       "    </tr>\n",
       "    <tr>\n",
       "      <th>6</th>\n",
       "      <td>47766</td>\n",
       "      <td>3044</td>\n",
       "      <td>ORGANIC AVOCADO</td>\n",
       "      <td>24</td>\n",
       "      <td>4</td>\n",
       "    </tr>\n",
       "    <tr>\n",
       "      <th>7</th>\n",
       "      <td>19660</td>\n",
       "      <td>2336</td>\n",
       "      <td>SPRING WATER</td>\n",
       "      <td>115</td>\n",
       "      <td>7</td>\n",
       "    </tr>\n",
       "    <tr>\n",
       "      <th>8</th>\n",
       "      <td>16797</td>\n",
       "      <td>2308</td>\n",
       "      <td>STRAWBERRIES</td>\n",
       "      <td>24</td>\n",
       "      <td>4</td>\n",
       "    </tr>\n",
       "    <tr>\n",
       "      <th>9</th>\n",
       "      <td>27966</td>\n",
       "      <td>2024</td>\n",
       "      <td>ORGANIC RASPBERRIES</td>\n",
       "      <td>123</td>\n",
       "      <td>4</td>\n",
       "    </tr>\n",
       "    <tr>\n",
       "      <th>10</th>\n",
       "      <td>44632</td>\n",
       "      <td>1914</td>\n",
       "      <td>SPARKLING WATER GRAPEFRUIT</td>\n",
       "      <td>115</td>\n",
       "      <td>7</td>\n",
       "    </tr>\n",
       "    <tr>\n",
       "      <th>11</th>\n",
       "      <td>49235</td>\n",
       "      <td>1797</td>\n",
       "      <td>ORGANIC HALF &amp; HALF</td>\n",
       "      <td>53</td>\n",
       "      <td>16</td>\n",
       "    </tr>\n",
       "    <tr>\n",
       "      <th>12</th>\n",
       "      <td>47626</td>\n",
       "      <td>1737</td>\n",
       "      <td>LARGE LEMON</td>\n",
       "      <td>24</td>\n",
       "      <td>4</td>\n",
       "    </tr>\n",
       "    <tr>\n",
       "      <th>13</th>\n",
       "      <td>196</td>\n",
       "      <td>1733</td>\n",
       "      <td>SODA</td>\n",
       "      <td>77</td>\n",
       "      <td>7</td>\n",
       "    </tr>\n",
       "    <tr>\n",
       "      <th>14</th>\n",
       "      <td>38689</td>\n",
       "      <td>1397</td>\n",
       "      <td>ORGANIC REDUCED FAT MILK</td>\n",
       "      <td>84</td>\n",
       "      <td>16</td>\n",
       "    </tr>\n",
       "    <tr>\n",
       "      <th>15</th>\n",
       "      <td>26209</td>\n",
       "      <td>1370</td>\n",
       "      <td>LIMES</td>\n",
       "      <td>24</td>\n",
       "      <td>4</td>\n",
       "    </tr>\n",
       "    <tr>\n",
       "      <th>16</th>\n",
       "      <td>12341</td>\n",
       "      <td>1340</td>\n",
       "      <td>HASS AVOCADOS</td>\n",
       "      <td>32</td>\n",
       "      <td>4</td>\n",
       "    </tr>\n",
       "    <tr>\n",
       "      <th>17</th>\n",
       "      <td>5785</td>\n",
       "      <td>1310</td>\n",
       "      <td>ORGANIC REDUCED FAT 2% MILK</td>\n",
       "      <td>84</td>\n",
       "      <td>16</td>\n",
       "    </tr>\n",
       "    <tr>\n",
       "      <th>18</th>\n",
       "      <td>27086</td>\n",
       "      <td>1309</td>\n",
       "      <td>HALF &amp; HALF</td>\n",
       "      <td>53</td>\n",
       "      <td>16</td>\n",
       "    </tr>\n",
       "    <tr>\n",
       "      <th>19</th>\n",
       "      <td>22935</td>\n",
       "      <td>1246</td>\n",
       "      <td>ORGANIC YELLOW ONION</td>\n",
       "      <td>83</td>\n",
       "      <td>4</td>\n",
       "    </tr>\n",
       "  </tbody>\n",
       "</table>\n",
       "</div>"
      ],
      "text/plain": [
       "    count  product_id                 product_name  aisle_id  department_id\n",
       "0   24852       15562                       BANANA        24              4\n",
       "1   13176       11026       BAG OF ORGANIC BANANAS        24              4\n",
       "2   27845        4363           ORGANIC WHOLE MILK        84             16\n",
       "3   21137        3946         ORGANIC STRAWBERRIES        24              4\n",
       "4   47209        3390         ORGANIC HASS AVOCADO        24              4\n",
       "5   21903        3336         ORGANIC BABY SPINACH       123              4\n",
       "6   47766        3044              ORGANIC AVOCADO        24              4\n",
       "7   19660        2336                 SPRING WATER       115              7\n",
       "8   16797        2308                 STRAWBERRIES        24              4\n",
       "9   27966        2024          ORGANIC RASPBERRIES       123              4\n",
       "10  44632        1914   SPARKLING WATER GRAPEFRUIT       115              7\n",
       "11  49235        1797          ORGANIC HALF & HALF        53             16\n",
       "12  47626        1737                  LARGE LEMON        24              4\n",
       "13    196        1733                         SODA        77              7\n",
       "14  38689        1397     ORGANIC REDUCED FAT MILK        84             16\n",
       "15  26209        1370                        LIMES        24              4\n",
       "16  12341        1340                HASS AVOCADOS        32              4\n",
       "17   5785        1310  ORGANIC REDUCED FAT 2% MILK        84             16\n",
       "18  27086        1309                  HALF & HALF        53             16\n",
       "19  22935        1246         ORGANIC YELLOW ONION        83              4"
      ]
     },
     "execution_count": 63,
     "metadata": {},
     "output_type": "execute_result"
    }
   ],
   "source": [
    "combined.head(20)"
   ]
  },
  {
   "cell_type": "markdown",
   "id": "28ce9872",
   "metadata": {
    "id": "28ce9872"
   },
   "source": [
    "Escribe aquí tus conclusiones\n",
    "\n",
    "Los primeros objetos añadidos al carrito pertencen al departamento de personal_care, puede ser que este pasillo esté al inicio de la tienda y es por ello que sus artículos tiendan a ser seleccionados como primeros."
   ]
  },
  {
   "cell_type": "markdown",
   "id": "uITbFCEoDosC",
   "metadata": {
    "id": "uITbFCEoDosC"
   },
   "source": [
    "### Conclusion general del proyecto:"
   ]
  },
  {
   "cell_type": "markdown",
   "id": "Nk-4GS7mDwqY",
   "metadata": {
    "id": "Nk-4GS7mDwqY"
   },
   "source": [
    "* Los días preferidos por los usuarios para realizar compras son los Domingos y Lunes en un horario preferencia de 9:00 am a 16:00 pm.\n",
    "* Los clientes tienden a esperar un mes o al cobro de su salario para comprar los productos que necesiten\n",
    "* Los productos preferidos por los clientes pertenecen al departamento de frutas y verduras, y son similares a los que se reordenan, esto puede significar que mucha gente prefiere este lugar para realizar sus compras para preparación de alimentos o que sean productos frescos"
   ]
  },
  {
   "cell_type": "code",
   "execution_count": null,
   "id": "031ddab6",
   "metadata": {},
   "outputs": [],
   "source": []
  },
  {
   "cell_type": "code",
   "execution_count": null,
   "id": "02229062",
   "metadata": {},
   "outputs": [],
   "source": []
  },
  {
   "cell_type": "code",
   "execution_count": null,
   "id": "245a5960",
   "metadata": {},
   "outputs": [],
   "source": []
  },
  {
   "cell_type": "code",
   "execution_count": null,
   "id": "f788e3ac",
   "metadata": {},
   "outputs": [],
   "source": []
  }
 ],
 "metadata": {
  "ExecuteTimeLog": [
   {
    "duration": 2203,
    "start_time": "2024-11-28T18:05:56.192Z"
   },
   {
    "duration": 2,
    "start_time": "2024-11-28T18:06:00.739Z"
   },
   {
    "duration": 1006,
    "start_time": "2024-11-28T18:24:48.968Z"
   },
   {
    "duration": 17,
    "start_time": "2024-11-28T18:25:29.417Z"
   },
   {
    "duration": 20,
    "start_time": "2024-11-28T18:25:48.537Z"
   },
   {
    "duration": 20,
    "start_time": "2024-11-28T18:25:55.168Z"
   },
   {
    "duration": 14,
    "start_time": "2024-11-28T18:26:22.827Z"
   },
   {
    "duration": 114,
    "start_time": "2024-11-28T18:26:48.698Z"
   },
   {
    "duration": 11,
    "start_time": "2024-11-28T19:08:09.598Z"
   },
   {
    "duration": 10,
    "start_time": "2024-11-28T19:08:22.683Z"
   },
   {
    "duration": 83,
    "start_time": "2024-11-28T20:46:04.033Z"
   },
   {
    "duration": 82,
    "start_time": "2024-11-28T20:46:40.589Z"
   },
   {
    "duration": 155,
    "start_time": "2024-11-28T21:47:18.434Z"
   },
   {
    "duration": 2108,
    "start_time": "2024-11-28T21:47:31.649Z"
   },
   {
    "duration": 1004,
    "start_time": "2024-11-28T21:47:33.759Z"
   },
   {
    "duration": 23,
    "start_time": "2024-11-28T21:47:34.765Z"
   },
   {
    "duration": 22,
    "start_time": "2024-11-28T21:47:34.791Z"
   },
   {
    "duration": 121,
    "start_time": "2024-11-28T21:47:34.815Z"
   },
   {
    "duration": 11,
    "start_time": "2024-11-28T21:47:34.938Z"
   },
   {
    "duration": 10,
    "start_time": "2024-11-28T21:47:34.951Z"
   },
   {
    "duration": 110,
    "start_time": "2024-11-28T21:47:34.962Z"
   },
   {
    "duration": 94,
    "start_time": "2024-11-28T21:47:35.074Z"
   },
   {
    "duration": 99,
    "start_time": "2024-11-28T21:47:35.171Z"
   },
   {
    "duration": 3,
    "start_time": "2024-11-28T21:47:35.272Z"
   },
   {
    "duration": 3,
    "start_time": "2024-11-28T21:47:35.276Z"
   },
   {
    "duration": 2,
    "start_time": "2024-11-28T21:47:35.281Z"
   },
   {
    "duration": 3,
    "start_time": "2024-11-28T21:47:35.285Z"
   },
   {
    "duration": 2,
    "start_time": "2024-11-28T21:47:35.308Z"
   },
   {
    "duration": 3,
    "start_time": "2024-11-28T21:47:35.312Z"
   },
   {
    "duration": 3,
    "start_time": "2024-11-28T21:47:35.316Z"
   },
   {
    "duration": 3,
    "start_time": "2024-11-28T21:47:35.320Z"
   },
   {
    "duration": 3,
    "start_time": "2024-11-28T21:47:35.325Z"
   },
   {
    "duration": 2,
    "start_time": "2024-11-28T21:47:35.331Z"
   },
   {
    "duration": 3,
    "start_time": "2024-11-28T21:47:35.334Z"
   },
   {
    "duration": 3,
    "start_time": "2024-11-28T21:47:35.338Z"
   },
   {
    "duration": 3,
    "start_time": "2024-11-28T21:47:35.343Z"
   },
   {
    "duration": 3,
    "start_time": "2024-11-28T21:47:35.347Z"
   },
   {
    "duration": 2,
    "start_time": "2024-11-28T21:47:35.352Z"
   },
   {
    "duration": 3,
    "start_time": "2024-11-28T21:47:35.356Z"
   },
   {
    "duration": 49,
    "start_time": "2024-11-28T21:47:35.360Z"
   },
   {
    "duration": 2,
    "start_time": "2024-11-28T21:47:35.412Z"
   },
   {
    "duration": 2,
    "start_time": "2024-11-28T21:47:35.416Z"
   },
   {
    "duration": 3,
    "start_time": "2024-11-28T21:47:35.420Z"
   },
   {
    "duration": 3,
    "start_time": "2024-11-28T21:47:35.424Z"
   },
   {
    "duration": 3,
    "start_time": "2024-11-28T21:47:35.428Z"
   },
   {
    "duration": 2,
    "start_time": "2024-11-28T21:47:35.433Z"
   },
   {
    "duration": 2,
    "start_time": "2024-11-28T21:47:35.437Z"
   },
   {
    "duration": 89,
    "start_time": "2024-11-28T21:57:31.949Z"
   },
   {
    "duration": 29,
    "start_time": "2024-11-28T21:57:53.514Z"
   },
   {
    "duration": 15,
    "start_time": "2024-11-28T22:32:48.840Z"
   },
   {
    "duration": 5,
    "start_time": "2024-11-28T22:33:12.219Z"
   },
   {
    "duration": 18,
    "start_time": "2024-11-28T22:34:09.392Z"
   },
   {
    "duration": 93,
    "start_time": "2024-11-28T22:56:11.174Z"
   },
   {
    "duration": 77,
    "start_time": "2024-11-28T22:56:14.301Z"
   },
   {
    "duration": 25,
    "start_time": "2024-11-28T22:56:34.181Z"
   },
   {
    "duration": 10,
    "start_time": "2024-11-28T23:06:41.844Z"
   },
   {
    "duration": 4,
    "start_time": "2024-11-28T23:50:44.952Z"
   },
   {
    "duration": 4,
    "start_time": "2024-11-28T23:50:57.489Z"
   },
   {
    "duration": 5,
    "start_time": "2024-11-28T23:53:30.951Z"
   },
   {
    "duration": 4,
    "start_time": "2024-11-28T23:53:38.216Z"
   },
   {
    "duration": 2110,
    "start_time": "2024-11-29T02:08:42.822Z"
   },
   {
    "duration": 984,
    "start_time": "2024-11-29T02:08:44.934Z"
   },
   {
    "duration": 27,
    "start_time": "2024-11-29T02:08:45.920Z"
   },
   {
    "duration": 13,
    "start_time": "2024-11-29T02:08:45.949Z"
   },
   {
    "duration": 131,
    "start_time": "2024-11-29T02:08:45.964Z"
   },
   {
    "duration": 13,
    "start_time": "2024-11-29T02:08:46.097Z"
   },
   {
    "duration": 26,
    "start_time": "2024-11-29T02:08:46.111Z"
   },
   {
    "duration": 85,
    "start_time": "2024-11-29T02:09:07.689Z"
   },
   {
    "duration": 90,
    "start_time": "2024-11-29T02:09:14.424Z"
   },
   {
    "duration": 95,
    "start_time": "2024-11-29T02:09:18.821Z"
   },
   {
    "duration": 84,
    "start_time": "2024-11-29T02:09:19.390Z"
   },
   {
    "duration": 30,
    "start_time": "2024-11-29T02:09:20.007Z"
   },
   {
    "duration": 13,
    "start_time": "2024-11-29T02:09:24.811Z"
   },
   {
    "duration": 5,
    "start_time": "2024-11-29T02:09:25.145Z"
   },
   {
    "duration": 17,
    "start_time": "2024-11-29T02:09:26.370Z"
   },
   {
    "duration": 9,
    "start_time": "2024-11-29T02:09:28.473Z"
   },
   {
    "duration": 3,
    "start_time": "2024-11-29T02:09:31.423Z"
   },
   {
    "duration": 4,
    "start_time": "2024-11-29T02:09:31.763Z"
   },
   {
    "duration": 5,
    "start_time": "2024-11-29T02:09:42.308Z"
   },
   {
    "duration": 4,
    "start_time": "2024-11-29T02:09:44.769Z"
   },
   {
    "duration": 748,
    "start_time": "2024-11-29T02:21:45.145Z"
   },
   {
    "duration": 228,
    "start_time": "2024-11-29T02:24:16.512Z"
   },
   {
    "duration": 6,
    "start_time": "2024-11-29T02:42:26.008Z"
   },
   {
    "duration": 11,
    "start_time": "2024-11-29T02:43:50.821Z"
   },
   {
    "duration": 5,
    "start_time": "2024-11-29T02:47:10.428Z"
   },
   {
    "duration": 5,
    "start_time": "2024-11-29T02:47:23.520Z"
   },
   {
    "duration": 3,
    "start_time": "2024-11-29T02:52:50.676Z"
   },
   {
    "duration": 5,
    "start_time": "2024-11-29T02:55:28.152Z"
   },
   {
    "duration": 12,
    "start_time": "2024-11-29T03:02:31.812Z"
   },
   {
    "duration": 16,
    "start_time": "2024-11-29T03:16:09.680Z"
   },
   {
    "duration": 457,
    "start_time": "2024-11-29T03:16:27.299Z"
   },
   {
    "duration": 159,
    "start_time": "2024-11-29T20:04:37.821Z"
   },
   {
    "duration": 2081,
    "start_time": "2024-11-29T20:04:45.169Z"
   },
   {
    "duration": 1019,
    "start_time": "2024-11-29T20:04:47.253Z"
   },
   {
    "duration": 25,
    "start_time": "2024-11-29T20:04:48.275Z"
   },
   {
    "duration": 19,
    "start_time": "2024-11-29T20:04:48.303Z"
   },
   {
    "duration": 133,
    "start_time": "2024-11-29T20:04:48.324Z"
   },
   {
    "duration": 10,
    "start_time": "2024-11-29T20:04:48.459Z"
   },
   {
    "duration": 10,
    "start_time": "2024-11-29T20:04:48.471Z"
   },
   {
    "duration": 108,
    "start_time": "2024-11-29T20:04:48.483Z"
   },
   {
    "duration": 87,
    "start_time": "2024-11-29T20:04:49.086Z"
   },
   {
    "duration": 97,
    "start_time": "2024-11-29T20:04:53.442Z"
   },
   {
    "duration": 81,
    "start_time": "2024-11-29T20:04:53.909Z"
   },
   {
    "duration": 27,
    "start_time": "2024-11-29T20:04:54.265Z"
   },
   {
    "duration": 13,
    "start_time": "2024-11-29T20:04:55.655Z"
   },
   {
    "duration": 4,
    "start_time": "2024-11-29T20:04:56.051Z"
   },
   {
    "duration": 17,
    "start_time": "2024-11-29T20:04:56.314Z"
   },
   {
    "duration": 7,
    "start_time": "2024-11-29T20:04:56.541Z"
   },
   {
    "duration": 5,
    "start_time": "2024-11-29T20:04:57.832Z"
   },
   {
    "duration": 4,
    "start_time": "2024-11-29T20:04:58.105Z"
   },
   {
    "duration": 5,
    "start_time": "2024-11-29T20:04:58.953Z"
   },
   {
    "duration": 4,
    "start_time": "2024-11-29T20:04:59.153Z"
   },
   {
    "duration": 773,
    "start_time": "2024-11-29T20:05:00.360Z"
   },
   {
    "duration": 231,
    "start_time": "2024-11-29T20:05:01.135Z"
   },
   {
    "duration": 8,
    "start_time": "2024-11-29T20:05:23.888Z"
   },
   {
    "duration": 5,
    "start_time": "2024-11-29T20:05:27.563Z"
   },
   {
    "duration": 6,
    "start_time": "2024-11-29T20:05:31.272Z"
   },
   {
    "duration": 5,
    "start_time": "2024-11-29T20:05:32.780Z"
   },
   {
    "duration": 12,
    "start_time": "2024-11-29T20:05:35.156Z"
   },
   {
    "duration": 7,
    "start_time": "2024-11-29T20:05:41.247Z"
   },
   {
    "duration": 38,
    "start_time": "2024-11-29T20:06:52.079Z"
   },
   {
    "duration": 16,
    "start_time": "2024-11-29T20:22:16.230Z"
   },
   {
    "duration": 38,
    "start_time": "2024-11-29T20:23:18.779Z"
   },
   {
    "duration": 63,
    "start_time": "2024-11-29T20:28:39.045Z"
   },
   {
    "duration": 31,
    "start_time": "2024-11-29T20:29:04.786Z"
   },
   {
    "duration": 2123,
    "start_time": "2024-11-30T13:40:33.465Z"
   },
   {
    "duration": 1015,
    "start_time": "2024-11-30T13:40:35.590Z"
   },
   {
    "duration": 23,
    "start_time": "2024-11-30T13:40:36.607Z"
   },
   {
    "duration": 13,
    "start_time": "2024-11-30T13:40:36.632Z"
   },
   {
    "duration": 143,
    "start_time": "2024-11-30T13:40:36.647Z"
   },
   {
    "duration": 12,
    "start_time": "2024-11-30T13:40:36.792Z"
   },
   {
    "duration": 10,
    "start_time": "2024-11-30T13:40:36.806Z"
   },
   {
    "duration": 113,
    "start_time": "2024-11-30T13:40:36.817Z"
   },
   {
    "duration": 95,
    "start_time": "2024-11-30T13:40:36.931Z"
   },
   {
    "duration": 95,
    "start_time": "2024-11-30T13:40:37.071Z"
   },
   {
    "duration": 87,
    "start_time": "2024-11-30T13:40:37.294Z"
   },
   {
    "duration": 30,
    "start_time": "2024-11-30T13:40:37.502Z"
   },
   {
    "duration": 14,
    "start_time": "2024-11-30T13:40:38.113Z"
   },
   {
    "duration": 6,
    "start_time": "2024-11-30T13:40:38.538Z"
   },
   {
    "duration": 17,
    "start_time": "2024-11-30T13:40:38.715Z"
   },
   {
    "duration": 8,
    "start_time": "2024-11-30T13:40:39.214Z"
   },
   {
    "duration": 5,
    "start_time": "2024-11-30T13:40:40.260Z"
   },
   {
    "duration": 4,
    "start_time": "2024-11-30T13:40:40.405Z"
   },
   {
    "duration": 4,
    "start_time": "2024-11-30T13:40:41.413Z"
   },
   {
    "duration": 4,
    "start_time": "2024-11-30T13:40:41.601Z"
   },
   {
    "duration": 753,
    "start_time": "2024-11-30T13:40:42.522Z"
   },
   {
    "duration": 233,
    "start_time": "2024-11-30T13:40:43.278Z"
   },
   {
    "duration": 5,
    "start_time": "2024-11-30T13:40:59.861Z"
   },
   {
    "duration": 7,
    "start_time": "2024-11-30T13:41:06.530Z"
   },
   {
    "duration": 6,
    "start_time": "2024-11-30T13:41:08.125Z"
   },
   {
    "duration": 6,
    "start_time": "2024-11-30T13:41:11.059Z"
   },
   {
    "duration": 12,
    "start_time": "2024-11-30T13:41:12.670Z"
   },
   {
    "duration": 6,
    "start_time": "2024-11-30T13:41:32.384Z"
   },
   {
    "duration": 34,
    "start_time": "2024-11-30T13:42:07.846Z"
   },
   {
    "duration": 16,
    "start_time": "2024-11-30T13:42:10.616Z"
   },
   {
    "duration": 29,
    "start_time": "2024-11-30T13:42:16.041Z"
   },
   {
    "duration": 64,
    "start_time": "2024-11-30T13:42:20.830Z"
   },
   {
    "duration": 5,
    "start_time": "2024-11-30T13:44:41.158Z"
   },
   {
    "duration": 11,
    "start_time": "2024-11-30T13:44:55.133Z"
   },
   {
    "duration": 61,
    "start_time": "2024-11-30T13:54:18.729Z"
   },
   {
    "duration": 60,
    "start_time": "2024-11-30T13:54:51.933Z"
   },
   {
    "duration": 8,
    "start_time": "2024-11-30T14:48:17.674Z"
   },
   {
    "duration": 8,
    "start_time": "2024-11-30T15:05:51.671Z"
   },
   {
    "duration": 8,
    "start_time": "2024-11-30T15:05:58.287Z"
   },
   {
    "duration": 8,
    "start_time": "2024-11-30T15:06:00.600Z"
   },
   {
    "duration": 8,
    "start_time": "2024-11-30T15:06:02.525Z"
   },
   {
    "duration": 8,
    "start_time": "2024-11-30T15:06:04.767Z"
   },
   {
    "duration": 8,
    "start_time": "2024-11-30T15:06:08.450Z"
   },
   {
    "duration": 62,
    "start_time": "2024-11-30T15:28:18.702Z"
   },
   {
    "duration": 63,
    "start_time": "2024-11-30T15:29:22.253Z"
   },
   {
    "duration": 62,
    "start_time": "2024-11-30T15:31:25.675Z"
   },
   {
    "duration": 21,
    "start_time": "2024-11-30T16:04:36.315Z"
   },
   {
    "duration": 271,
    "start_time": "2024-11-30T16:33:36.959Z"
   },
   {
    "duration": 45,
    "start_time": "2024-11-30T16:33:50.379Z"
   },
   {
    "duration": 28,
    "start_time": "2024-11-30T16:51:13.183Z"
   },
   {
    "duration": 26,
    "start_time": "2024-11-30T16:51:15.758Z"
   },
   {
    "duration": 2155,
    "start_time": "2024-12-01T15:16:28.713Z"
   },
   {
    "duration": 991,
    "start_time": "2024-12-01T15:16:30.870Z"
   },
   {
    "duration": 25,
    "start_time": "2024-12-01T15:16:31.863Z"
   },
   {
    "duration": 14,
    "start_time": "2024-12-01T15:16:31.890Z"
   },
   {
    "duration": 149,
    "start_time": "2024-12-01T15:16:31.907Z"
   },
   {
    "duration": 11,
    "start_time": "2024-12-01T15:16:32.057Z"
   },
   {
    "duration": 10,
    "start_time": "2024-12-01T15:16:32.070Z"
   },
   {
    "duration": 114,
    "start_time": "2024-12-01T15:16:32.082Z"
   },
   {
    "duration": 91,
    "start_time": "2024-12-01T15:16:32.199Z"
   },
   {
    "duration": 102,
    "start_time": "2024-12-01T15:16:32.292Z"
   },
   {
    "duration": 91,
    "start_time": "2024-12-01T15:16:32.396Z"
   },
   {
    "duration": 27,
    "start_time": "2024-12-01T15:16:32.489Z"
   },
   {
    "duration": 12,
    "start_time": "2024-12-01T15:16:32.962Z"
   },
   {
    "duration": 4,
    "start_time": "2024-12-01T15:16:33.137Z"
   },
   {
    "duration": 17,
    "start_time": "2024-12-01T15:16:33.318Z"
   },
   {
    "duration": 8,
    "start_time": "2024-12-01T15:16:33.496Z"
   },
   {
    "duration": 4,
    "start_time": "2024-12-01T15:16:34.496Z"
   },
   {
    "duration": 4,
    "start_time": "2024-12-01T15:16:34.726Z"
   },
   {
    "duration": 5,
    "start_time": "2024-12-01T15:16:35.817Z"
   },
   {
    "duration": 4,
    "start_time": "2024-12-01T15:16:36.011Z"
   },
   {
    "duration": 771,
    "start_time": "2024-12-01T15:16:36.570Z"
   },
   {
    "duration": 225,
    "start_time": "2024-12-01T15:16:37.343Z"
   },
   {
    "duration": 6,
    "start_time": "2024-12-01T15:16:39.255Z"
   },
   {
    "duration": 6,
    "start_time": "2024-12-01T15:16:39.602Z"
   },
   {
    "duration": 5,
    "start_time": "2024-12-01T15:16:39.990Z"
   },
   {
    "duration": 5,
    "start_time": "2024-12-01T15:16:40.582Z"
   },
   {
    "duration": 13,
    "start_time": "2024-12-01T15:16:40.986Z"
   },
   {
    "duration": 6,
    "start_time": "2024-12-01T15:16:41.623Z"
   },
   {
    "duration": 34,
    "start_time": "2024-12-01T15:16:41.819Z"
   },
   {
    "duration": 26,
    "start_time": "2024-12-01T15:16:42.744Z"
   },
   {
    "duration": 31,
    "start_time": "2024-12-01T15:16:42.946Z"
   },
   {
    "duration": 62,
    "start_time": "2024-12-01T15:16:44.204Z"
   },
   {
    "duration": 62,
    "start_time": "2024-12-01T15:16:44.737Z"
   },
   {
    "duration": 57,
    "start_time": "2024-12-01T15:16:46.216Z"
   },
   {
    "duration": 60,
    "start_time": "2024-12-01T15:28:09.212Z"
   },
   {
    "duration": 192,
    "start_time": "2024-12-01T16:06:48.189Z"
   },
   {
    "duration": 222,
    "start_time": "2024-12-01T16:18:15.852Z"
   },
   {
    "duration": 2144,
    "start_time": "2024-12-01T17:59:46.496Z"
   },
   {
    "duration": 997,
    "start_time": "2024-12-01T17:59:48.642Z"
   },
   {
    "duration": 23,
    "start_time": "2024-12-01T17:59:49.641Z"
   },
   {
    "duration": 16,
    "start_time": "2024-12-01T17:59:49.666Z"
   },
   {
    "duration": 147,
    "start_time": "2024-12-01T17:59:49.684Z"
   },
   {
    "duration": 11,
    "start_time": "2024-12-01T17:59:49.833Z"
   },
   {
    "duration": 27,
    "start_time": "2024-12-01T17:59:49.846Z"
   },
   {
    "duration": 96,
    "start_time": "2024-12-01T17:59:49.874Z"
   },
   {
    "duration": 86,
    "start_time": "2024-12-01T17:59:49.972Z"
   },
   {
    "duration": 101,
    "start_time": "2024-12-01T17:59:50.069Z"
   },
   {
    "duration": 85,
    "start_time": "2024-12-01T17:59:50.172Z"
   },
   {
    "duration": 36,
    "start_time": "2024-12-01T17:59:50.259Z"
   },
   {
    "duration": 12,
    "start_time": "2024-12-01T17:59:50.297Z"
   },
   {
    "duration": 4,
    "start_time": "2024-12-01T17:59:50.310Z"
   },
   {
    "duration": 16,
    "start_time": "2024-12-01T17:59:50.316Z"
   },
   {
    "duration": 7,
    "start_time": "2024-12-01T17:59:50.399Z"
   },
   {
    "duration": 5,
    "start_time": "2024-12-01T17:59:50.904Z"
   },
   {
    "duration": 4,
    "start_time": "2024-12-01T17:59:51.075Z"
   },
   {
    "duration": 5,
    "start_time": "2024-12-01T17:59:51.616Z"
   },
   {
    "duration": 4,
    "start_time": "2024-12-01T17:59:51.791Z"
   },
   {
    "duration": 729,
    "start_time": "2024-12-01T17:59:52.313Z"
   },
   {
    "duration": 248,
    "start_time": "2024-12-01T17:59:53.043Z"
   },
   {
    "duration": 6,
    "start_time": "2024-12-01T17:59:53.294Z"
   },
   {
    "duration": 6,
    "start_time": "2024-12-01T17:59:53.542Z"
   },
   {
    "duration": 6,
    "start_time": "2024-12-01T17:59:53.897Z"
   },
   {
    "duration": 5,
    "start_time": "2024-12-01T17:59:54.260Z"
   },
   {
    "duration": 13,
    "start_time": "2024-12-01T17:59:55.526Z"
   },
   {
    "duration": 6,
    "start_time": "2024-12-01T17:59:57.823Z"
   },
   {
    "duration": 56,
    "start_time": "2024-12-01T17:59:58.021Z"
   },
   {
    "duration": 16,
    "start_time": "2024-12-01T18:00:00.862Z"
   },
   {
    "duration": 29,
    "start_time": "2024-12-01T18:00:01.040Z"
   },
   {
    "duration": 61,
    "start_time": "2024-12-01T18:00:02.240Z"
   },
   {
    "duration": 63,
    "start_time": "2024-12-01T18:00:02.677Z"
   },
   {
    "duration": 53,
    "start_time": "2024-12-01T18:00:04.191Z"
   },
   {
    "duration": 22,
    "start_time": "2024-12-01T18:00:10.650Z"
   },
   {
    "duration": 26,
    "start_time": "2024-12-01T18:00:10.999Z"
   },
   {
    "duration": 189,
    "start_time": "2024-12-01T18:00:14.638Z"
   },
   {
    "duration": 212,
    "start_time": "2024-12-01T18:13:32.853Z"
   },
   {
    "duration": 114,
    "start_time": "2024-12-01T18:35:43.754Z"
   },
   {
    "duration": 226,
    "start_time": "2024-12-01T18:44:43.381Z"
   },
   {
    "duration": 178,
    "start_time": "2024-12-01T18:56:39.039Z"
   },
   {
    "duration": 174,
    "start_time": "2024-12-01T18:56:58.224Z"
   },
   {
    "duration": 115,
    "start_time": "2024-12-01T18:57:08.196Z"
   },
   {
    "duration": 225,
    "start_time": "2024-12-01T18:57:20.431Z"
   },
   {
    "duration": 176,
    "start_time": "2024-12-01T19:33:08.264Z"
   },
   {
    "duration": 171,
    "start_time": "2024-12-01T19:34:02.991Z"
   },
   {
    "duration": 14,
    "start_time": "2024-12-01T20:06:04.030Z"
   },
   {
    "duration": 3,
    "start_time": "2024-12-01T20:06:11.420Z"
   },
   {
    "duration": 4,
    "start_time": "2024-12-01T20:06:17.657Z"
   },
   {
    "duration": 258,
    "start_time": "2024-12-01T20:06:25.628Z"
   },
   {
    "duration": 4,
    "start_time": "2024-12-01T20:29:21.810Z"
   },
   {
    "duration": 207,
    "start_time": "2024-12-01T20:29:32.710Z"
   },
   {
    "duration": 203,
    "start_time": "2024-12-01T20:29:51.197Z"
   },
   {
    "duration": 210,
    "start_time": "2024-12-01T20:29:57.614Z"
   },
   {
    "duration": 216,
    "start_time": "2024-12-01T20:30:38.978Z"
   },
   {
    "duration": 33,
    "start_time": "2024-12-01T20:31:58.426Z"
   },
   {
    "duration": 179,
    "start_time": "2024-12-01T20:32:00.809Z"
   },
   {
    "duration": 554,
    "start_time": "2024-12-01T21:08:03.035Z"
   },
   {
    "duration": 439,
    "start_time": "2024-12-01T21:08:03.592Z"
   },
   {
    "duration": 8,
    "start_time": "2024-12-01T21:08:04.033Z"
   },
   {
    "duration": 1204,
    "start_time": "2024-12-01T22:11:56.599Z"
   },
   {
    "duration": 188,
    "start_time": "2024-12-01T22:12:15.043Z"
   },
   {
    "duration": 108,
    "start_time": "2024-12-01T22:12:26.178Z"
   },
   {
    "duration": 2110,
    "start_time": "2024-12-02T16:23:34.885Z"
   },
   {
    "duration": 1034,
    "start_time": "2024-12-02T16:23:36.997Z"
   },
   {
    "duration": 24,
    "start_time": "2024-12-02T16:23:38.033Z"
   },
   {
    "duration": 13,
    "start_time": "2024-12-02T16:23:38.060Z"
   },
   {
    "duration": 133,
    "start_time": "2024-12-02T16:23:38.086Z"
   },
   {
    "duration": 12,
    "start_time": "2024-12-02T16:23:38.221Z"
   },
   {
    "duration": 16,
    "start_time": "2024-12-02T16:23:38.235Z"
   },
   {
    "duration": 104,
    "start_time": "2024-12-02T16:23:38.253Z"
   },
   {
    "duration": 94,
    "start_time": "2024-12-02T16:23:38.359Z"
   },
   {
    "duration": 98,
    "start_time": "2024-12-02T16:23:38.456Z"
   },
   {
    "duration": 90,
    "start_time": "2024-12-02T16:23:38.556Z"
   },
   {
    "duration": 30,
    "start_time": "2024-12-02T16:23:38.648Z"
   },
   {
    "duration": 12,
    "start_time": "2024-12-02T16:23:38.687Z"
   },
   {
    "duration": 3,
    "start_time": "2024-12-02T16:23:38.706Z"
   },
   {
    "duration": 17,
    "start_time": "2024-12-02T16:23:38.859Z"
   },
   {
    "duration": 8,
    "start_time": "2024-12-02T16:23:38.996Z"
   },
   {
    "duration": 4,
    "start_time": "2024-12-02T16:23:39.487Z"
   },
   {
    "duration": 4,
    "start_time": "2024-12-02T16:23:39.613Z"
   },
   {
    "duration": 5,
    "start_time": "2024-12-02T16:23:49.157Z"
   },
   {
    "duration": 4,
    "start_time": "2024-12-02T16:23:49.570Z"
   },
   {
    "duration": 755,
    "start_time": "2024-12-02T16:23:50.181Z"
   },
   {
    "duration": 249,
    "start_time": "2024-12-02T16:23:50.938Z"
   },
   {
    "duration": 5,
    "start_time": "2024-12-02T16:23:51.189Z"
   },
   {
    "duration": 5,
    "start_time": "2024-12-02T16:23:51.545Z"
   },
   {
    "duration": 6,
    "start_time": "2024-12-02T16:23:51.881Z"
   },
   {
    "duration": 5,
    "start_time": "2024-12-02T16:23:52.234Z"
   },
   {
    "duration": 16,
    "start_time": "2024-12-02T16:23:53.140Z"
   },
   {
    "duration": 8,
    "start_time": "2024-12-02T16:23:58.559Z"
   },
   {
    "duration": 57,
    "start_time": "2024-12-02T16:24:04.591Z"
   },
   {
    "duration": 25,
    "start_time": "2024-12-02T16:24:11.742Z"
   },
   {
    "duration": 29,
    "start_time": "2024-12-02T16:24:12.677Z"
   },
   {
    "duration": 61,
    "start_time": "2024-12-02T16:24:14.672Z"
   },
   {
    "duration": 63,
    "start_time": "2024-12-02T16:24:15.625Z"
   },
   {
    "duration": 53,
    "start_time": "2024-12-02T16:24:18.419Z"
   },
   {
    "duration": 23,
    "start_time": "2024-12-02T16:24:29.608Z"
   },
   {
    "duration": 26,
    "start_time": "2024-12-02T16:24:30.371Z"
   },
   {
    "duration": 184,
    "start_time": "2024-12-02T16:24:34.888Z"
   },
   {
    "duration": 150,
    "start_time": "2024-12-02T16:24:37.718Z"
   },
   {
    "duration": 227,
    "start_time": "2024-12-02T16:24:41.925Z"
   },
   {
    "duration": 14,
    "start_time": "2024-12-02T16:24:49.330Z"
   },
   {
    "duration": 3,
    "start_time": "2024-12-02T16:24:49.851Z"
   },
   {
    "duration": 3,
    "start_time": "2024-12-02T16:24:50.350Z"
   },
   {
    "duration": 217,
    "start_time": "2024-12-02T16:24:51.082Z"
   },
   {
    "duration": 34,
    "start_time": "2024-12-02T16:25:01.325Z"
   },
   {
    "duration": 181,
    "start_time": "2024-12-02T16:25:02.477Z"
   },
   {
    "duration": 520,
    "start_time": "2024-12-02T16:26:05.066Z"
   },
   {
    "duration": 419,
    "start_time": "2024-12-02T16:26:06.449Z"
   },
   {
    "duration": 8,
    "start_time": "2024-12-02T16:26:07.799Z"
   },
   {
    "duration": 1190,
    "start_time": "2024-12-02T16:26:49.702Z"
   },
   {
    "duration": 1234,
    "start_time": "2024-12-02T16:26:53.141Z"
   },
   {
    "duration": 188,
    "start_time": "2024-12-02T16:26:54.377Z"
   },
   {
    "duration": 107,
    "start_time": "2024-12-02T16:26:54.612Z"
   },
   {
    "duration": 7,
    "start_time": "2024-12-02T16:28:14.844Z"
   },
   {
    "duration": 464,
    "start_time": "2024-12-02T16:29:04.717Z"
   },
   {
    "duration": 166,
    "start_time": "2024-12-02T16:34:38.097Z"
   },
   {
    "duration": 203,
    "start_time": "2024-12-02T16:35:58.489Z"
   },
   {
    "duration": 199,
    "start_time": "2024-12-02T16:36:11.834Z"
   },
   {
    "duration": 390,
    "start_time": "2024-12-02T16:40:23.722Z"
   },
   {
    "duration": 208,
    "start_time": "2024-12-02T16:40:32.026Z"
   },
   {
    "duration": 209,
    "start_time": "2024-12-02T16:40:44.318Z"
   },
   {
    "duration": 204,
    "start_time": "2024-12-02T16:41:17.236Z"
   },
   {
    "duration": 179,
    "start_time": "2024-12-02T16:43:10.857Z"
   },
   {
    "duration": 199,
    "start_time": "2024-12-02T16:43:47.683Z"
   },
   {
    "duration": 194,
    "start_time": "2024-12-02T16:44:10.104Z"
   },
   {
    "duration": 1858,
    "start_time": "2024-12-02T16:52:54.522Z"
   },
   {
    "duration": 944,
    "start_time": "2024-12-02T16:53:40.782Z"
   },
   {
    "duration": 962,
    "start_time": "2024-12-02T16:55:00.904Z"
   },
   {
    "duration": 303,
    "start_time": "2024-12-02T16:56:57.775Z"
   },
   {
    "duration": 335,
    "start_time": "2024-12-02T16:57:23.295Z"
   },
   {
    "duration": 328,
    "start_time": "2024-12-02T16:58:30.661Z"
   },
   {
    "duration": 330,
    "start_time": "2024-12-02T16:59:30.960Z"
   },
   {
    "duration": 324,
    "start_time": "2024-12-02T17:00:13.766Z"
   },
   {
    "duration": 273,
    "start_time": "2024-12-02T17:01:47.270Z"
   },
   {
    "duration": 339,
    "start_time": "2024-12-02T17:02:05.606Z"
   },
   {
    "duration": 81,
    "start_time": "2024-12-02T17:54:32.746Z"
   },
   {
    "duration": 101,
    "start_time": "2024-12-02T17:54:38.102Z"
   },
   {
    "duration": 108,
    "start_time": "2024-12-02T19:38:50.074Z"
   },
   {
    "duration": 1297,
    "start_time": "2024-12-02T19:41:46.895Z"
   },
   {
    "duration": 4300,
    "start_time": "2024-12-02T19:41:56.587Z"
   },
   {
    "duration": 1369,
    "start_time": "2024-12-02T20:08:04.832Z"
   },
   {
    "duration": 1375,
    "start_time": "2024-12-02T20:09:07.493Z"
   },
   {
    "duration": 123,
    "start_time": "2024-12-02T20:10:15.194Z"
   },
   {
    "duration": 205,
    "start_time": "2024-12-02T20:10:20.258Z"
   },
   {
    "duration": 125,
    "start_time": "2024-12-02T20:10:36.939Z"
   },
   {
    "duration": 123,
    "start_time": "2024-12-02T20:10:43.328Z"
   },
   {
    "duration": 122,
    "start_time": "2024-12-02T20:10:48.544Z"
   },
   {
    "duration": 1400,
    "start_time": "2024-12-02T20:12:12.538Z"
   },
   {
    "duration": 911,
    "start_time": "2024-12-02T20:12:23.250Z"
   },
   {
    "duration": 130,
    "start_time": "2024-12-02T20:12:53.678Z"
   },
   {
    "duration": 1000,
    "start_time": "2024-12-02T20:13:26.294Z"
   },
   {
    "duration": 903,
    "start_time": "2024-12-02T20:13:42.711Z"
   },
   {
    "duration": 187,
    "start_time": "2024-12-02T20:13:53.309Z"
   },
   {
    "duration": 996,
    "start_time": "2024-12-02T20:14:47.277Z"
   },
   {
    "duration": 934,
    "start_time": "2024-12-02T20:14:57.147Z"
   },
   {
    "duration": 150,
    "start_time": "2024-12-02T20:15:21.839Z"
   },
   {
    "duration": 1773,
    "start_time": "2024-12-02T20:17:05.118Z"
   },
   {
    "duration": 1709,
    "start_time": "2024-12-02T20:17:20.712Z"
   },
   {
    "duration": 1832,
    "start_time": "2024-12-02T20:18:47.825Z"
   },
   {
    "duration": 116,
    "start_time": "2024-12-02T20:19:51.516Z"
   },
   {
    "duration": 182,
    "start_time": "2024-12-02T20:20:56.641Z"
   },
   {
    "duration": 186,
    "start_time": "2024-12-02T20:21:20.603Z"
   },
   {
    "duration": 187,
    "start_time": "2024-12-02T20:24:12.936Z"
   },
   {
    "duration": 84,
    "start_time": "2024-12-02T20:25:33.589Z"
   },
   {
    "duration": 82,
    "start_time": "2024-12-02T20:25:40.562Z"
   },
   {
    "duration": 2165,
    "start_time": "2024-12-02T21:27:00.626Z"
   },
   {
    "duration": 1013,
    "start_time": "2024-12-02T21:27:02.793Z"
   },
   {
    "duration": 25,
    "start_time": "2024-12-02T21:27:03.808Z"
   },
   {
    "duration": 13,
    "start_time": "2024-12-02T21:27:03.836Z"
   },
   {
    "duration": 159,
    "start_time": "2024-12-02T21:27:03.851Z"
   },
   {
    "duration": 11,
    "start_time": "2024-12-02T21:27:04.012Z"
   },
   {
    "duration": 11,
    "start_time": "2024-12-02T21:27:04.025Z"
   },
   {
    "duration": 112,
    "start_time": "2024-12-02T21:27:04.037Z"
   },
   {
    "duration": 94,
    "start_time": "2024-12-02T21:27:04.151Z"
   },
   {
    "duration": 102,
    "start_time": "2024-12-02T21:27:04.248Z"
   },
   {
    "duration": 91,
    "start_time": "2024-12-02T21:27:04.352Z"
   },
   {
    "duration": 28,
    "start_time": "2024-12-02T21:27:04.445Z"
   },
   {
    "duration": 13,
    "start_time": "2024-12-02T21:27:04.475Z"
   },
   {
    "duration": 23,
    "start_time": "2024-12-02T21:27:04.490Z"
   },
   {
    "duration": 16,
    "start_time": "2024-12-02T21:27:04.516Z"
   },
   {
    "duration": 7,
    "start_time": "2024-12-02T21:27:04.585Z"
   },
   {
    "duration": 4,
    "start_time": "2024-12-02T21:27:05.097Z"
   },
   {
    "duration": 4,
    "start_time": "2024-12-02T21:27:05.262Z"
   },
   {
    "duration": 4,
    "start_time": "2024-12-02T21:27:05.779Z"
   },
   {
    "duration": 3,
    "start_time": "2024-12-02T21:27:05.951Z"
   },
   {
    "duration": 850,
    "start_time": "2024-12-02T21:27:06.497Z"
   },
   {
    "duration": 251,
    "start_time": "2024-12-02T21:27:07.350Z"
   },
   {
    "duration": 5,
    "start_time": "2024-12-02T21:27:08.069Z"
   },
   {
    "duration": 7,
    "start_time": "2024-12-02T21:27:08.404Z"
   },
   {
    "duration": 5,
    "start_time": "2024-12-02T21:27:08.741Z"
   },
   {
    "duration": 7,
    "start_time": "2024-12-02T21:27:09.084Z"
   },
   {
    "duration": 12,
    "start_time": "2024-12-02T21:27:09.426Z"
   },
   {
    "duration": 8,
    "start_time": "2024-12-02T21:27:09.934Z"
   },
   {
    "duration": 59,
    "start_time": "2024-12-02T21:27:10.160Z"
   },
   {
    "duration": 17,
    "start_time": "2024-12-02T21:27:11.855Z"
   },
   {
    "duration": 30,
    "start_time": "2024-12-02T21:27:12.046Z"
   },
   {
    "duration": 61,
    "start_time": "2024-12-02T21:27:12.405Z"
   },
   {
    "duration": 63,
    "start_time": "2024-12-02T21:27:13.243Z"
   },
   {
    "duration": 54,
    "start_time": "2024-12-02T21:27:13.858Z"
   },
   {
    "duration": 32,
    "start_time": "2024-12-02T21:27:16.496Z"
   },
   {
    "duration": 28,
    "start_time": "2024-12-02T21:27:16.599Z"
   },
   {
    "duration": 201,
    "start_time": "2024-12-02T21:27:17.115Z"
   },
   {
    "duration": 116,
    "start_time": "2024-12-02T21:27:17.665Z"
   },
   {
    "duration": 232,
    "start_time": "2024-12-02T21:27:18.281Z"
   },
   {
    "duration": 15,
    "start_time": "2024-12-02T21:27:21.215Z"
   },
   {
    "duration": 5,
    "start_time": "2024-12-02T21:27:21.871Z"
   },
   {
    "duration": 3,
    "start_time": "2024-12-02T21:27:22.088Z"
   },
   {
    "duration": 258,
    "start_time": "2024-12-02T21:27:22.923Z"
   },
   {
    "duration": 35,
    "start_time": "2024-12-02T21:27:25.253Z"
   },
   {
    "duration": 182,
    "start_time": "2024-12-02T21:27:25.722Z"
   },
   {
    "duration": 571,
    "start_time": "2024-12-02T21:27:31.728Z"
   },
   {
    "duration": 432,
    "start_time": "2024-12-02T21:27:32.301Z"
   },
   {
    "duration": 8,
    "start_time": "2024-12-02T21:27:32.827Z"
   },
   {
    "duration": 274,
    "start_time": "2024-12-02T21:32:01.501Z"
   },
   {
    "duration": 498,
    "start_time": "2024-12-02T21:32:12.089Z"
   },
   {
    "duration": 129,
    "start_time": "2024-12-02T21:32:22.747Z"
   },
   {
    "duration": 112,
    "start_time": "2024-12-02T21:58:41.720Z"
   },
   {
    "duration": 117,
    "start_time": "2024-12-02T21:59:14.079Z"
   },
   {
    "duration": 220,
    "start_time": "2024-12-02T21:59:21.001Z"
   },
   {
    "duration": 180,
    "start_time": "2024-12-02T22:19:49.963Z"
   },
   {
    "duration": 194,
    "start_time": "2024-12-02T22:19:58.693Z"
   },
   {
    "duration": 191,
    "start_time": "2024-12-02T22:20:09.040Z"
   },
   {
    "duration": 201,
    "start_time": "2024-12-02T22:20:14.993Z"
   },
   {
    "duration": 200,
    "start_time": "2024-12-02T22:20:18.677Z"
   },
   {
    "duration": 198,
    "start_time": "2024-12-02T22:21:02.979Z"
   },
   {
    "duration": 236,
    "start_time": "2024-12-02T22:21:28.193Z"
   },
   {
    "duration": 201,
    "start_time": "2024-12-02T22:21:44.163Z"
   },
   {
    "duration": 199,
    "start_time": "2024-12-02T22:21:47.358Z"
   },
   {
    "duration": 194,
    "start_time": "2024-12-02T22:22:27.731Z"
   },
   {
    "duration": 202,
    "start_time": "2024-12-02T22:22:34.399Z"
   },
   {
    "duration": 276,
    "start_time": "2024-12-02T22:22:56.394Z"
   },
   {
    "duration": 196,
    "start_time": "2024-12-02T22:23:02.485Z"
   },
   {
    "duration": 196,
    "start_time": "2024-12-02T22:23:48.606Z"
   },
   {
    "duration": 198,
    "start_time": "2024-12-02T22:23:55.582Z"
   },
   {
    "duration": 2,
    "start_time": "2024-12-02T22:25:19.186Z"
   },
   {
    "duration": 8,
    "start_time": "2024-12-02T22:26:21.074Z"
   },
   {
    "duration": 11,
    "start_time": "2024-12-02T22:26:38.260Z"
   },
   {
    "duration": 11,
    "start_time": "2024-12-02T22:26:45.878Z"
   },
   {
    "duration": 11,
    "start_time": "2024-12-02T22:27:00.086Z"
   },
   {
    "duration": 65,
    "start_time": "2024-12-02T22:30:21.516Z"
   },
   {
    "duration": 24,
    "start_time": "2024-12-02T22:31:21.531Z"
   },
   {
    "duration": 194,
    "start_time": "2024-12-02T22:33:23.661Z"
   },
   {
    "duration": 185,
    "start_time": "2024-12-02T22:33:32.265Z"
   },
   {
    "duration": 234,
    "start_time": "2024-12-02T22:33:50.166Z"
   },
   {
    "duration": 188,
    "start_time": "2024-12-02T22:34:39.792Z"
   },
   {
    "duration": 19,
    "start_time": "2024-12-02T22:47:43.902Z"
   },
   {
    "duration": 11,
    "start_time": "2024-12-02T22:48:15.169Z"
   },
   {
    "duration": 17,
    "start_time": "2024-12-02T22:48:21.804Z"
   },
   {
    "duration": 2222,
    "start_time": "2024-12-03T01:12:58.276Z"
   },
   {
    "duration": 1078,
    "start_time": "2024-12-03T01:13:00.505Z"
   },
   {
    "duration": 24,
    "start_time": "2024-12-03T01:13:01.585Z"
   },
   {
    "duration": 14,
    "start_time": "2024-12-03T01:13:01.612Z"
   },
   {
    "duration": 180,
    "start_time": "2024-12-03T01:13:01.628Z"
   },
   {
    "duration": 14,
    "start_time": "2024-12-03T01:13:01.810Z"
   },
   {
    "duration": 16,
    "start_time": "2024-12-03T01:13:01.826Z"
   },
   {
    "duration": 108,
    "start_time": "2024-12-03T01:13:01.843Z"
   },
   {
    "duration": 110,
    "start_time": "2024-12-03T01:13:01.953Z"
   },
   {
    "duration": 107,
    "start_time": "2024-12-03T01:13:02.066Z"
   },
   {
    "duration": 108,
    "start_time": "2024-12-03T01:13:02.175Z"
   },
   {
    "duration": 40,
    "start_time": "2024-12-03T01:13:02.285Z"
   },
   {
    "duration": 12,
    "start_time": "2024-12-03T01:13:02.327Z"
   },
   {
    "duration": 4,
    "start_time": "2024-12-03T01:13:02.341Z"
   },
   {
    "duration": 18,
    "start_time": "2024-12-03T01:13:02.347Z"
   },
   {
    "duration": 7,
    "start_time": "2024-12-03T01:13:02.367Z"
   },
   {
    "duration": 4,
    "start_time": "2024-12-03T01:13:02.405Z"
   },
   {
    "duration": 6,
    "start_time": "2024-12-03T01:13:02.426Z"
   },
   {
    "duration": 5,
    "start_time": "2024-12-03T01:13:02.960Z"
   },
   {
    "duration": 5,
    "start_time": "2024-12-03T01:13:03.116Z"
   },
   {
    "duration": 814,
    "start_time": "2024-12-03T01:13:03.599Z"
   },
   {
    "duration": 249,
    "start_time": "2024-12-03T01:13:04.415Z"
   },
   {
    "duration": 5,
    "start_time": "2024-12-03T01:13:04.666Z"
   },
   {
    "duration": 6,
    "start_time": "2024-12-03T01:13:04.725Z"
   },
   {
    "duration": 6,
    "start_time": "2024-12-03T01:13:04.891Z"
   },
   {
    "duration": 5,
    "start_time": "2024-12-03T01:13:05.096Z"
   },
   {
    "duration": 12,
    "start_time": "2024-12-03T01:13:05.309Z"
   },
   {
    "duration": 8,
    "start_time": "2024-12-03T01:13:05.879Z"
   },
   {
    "duration": 59,
    "start_time": "2024-12-03T01:13:06.023Z"
   },
   {
    "duration": 18,
    "start_time": "2024-12-03T01:13:06.552Z"
   },
   {
    "duration": 30,
    "start_time": "2024-12-03T01:13:06.828Z"
   },
   {
    "duration": 62,
    "start_time": "2024-12-03T01:13:07.060Z"
   },
   {
    "duration": 64,
    "start_time": "2024-12-03T01:13:07.230Z"
   },
   {
    "duration": 55,
    "start_time": "2024-12-03T01:13:07.560Z"
   },
   {
    "duration": 23,
    "start_time": "2024-12-03T01:13:08.625Z"
   },
   {
    "duration": 28,
    "start_time": "2024-12-03T01:13:08.793Z"
   },
   {
    "duration": 189,
    "start_time": "2024-12-03T01:13:09.325Z"
   },
   {
    "duration": 119,
    "start_time": "2024-12-03T01:13:09.874Z"
   },
   {
    "duration": 236,
    "start_time": "2024-12-03T01:13:10.469Z"
   },
   {
    "duration": 14,
    "start_time": "2024-12-03T01:13:12.030Z"
   },
   {
    "duration": 4,
    "start_time": "2024-12-03T01:13:12.210Z"
   },
   {
    "duration": 3,
    "start_time": "2024-12-03T01:13:12.403Z"
   },
   {
    "duration": 272,
    "start_time": "2024-12-03T01:13:12.579Z"
   },
   {
    "duration": 36,
    "start_time": "2024-12-03T01:13:13.810Z"
   },
   {
    "duration": 186,
    "start_time": "2024-12-03T01:13:14.159Z"
   },
   {
    "duration": 567,
    "start_time": "2024-12-03T01:13:15.461Z"
   },
   {
    "duration": 429,
    "start_time": "2024-12-03T01:13:16.031Z"
   },
   {
    "duration": 9,
    "start_time": "2024-12-03T01:13:16.462Z"
   },
   {
    "duration": 1366,
    "start_time": "2024-12-03T01:13:20.483Z"
   },
   {
    "duration": 198,
    "start_time": "2024-12-03T01:13:21.851Z"
   },
   {
    "duration": 141,
    "start_time": "2024-12-03T01:13:22.051Z"
   },
   {
    "duration": 7,
    "start_time": "2024-12-03T01:13:23.778Z"
   },
   {
    "duration": 633,
    "start_time": "2024-12-03T01:13:24.772Z"
   },
   {
    "duration": 252,
    "start_time": "2024-12-03T01:28:05.886Z"
   },
   {
    "duration": 196,
    "start_time": "2024-12-03T01:28:26.798Z"
   },
   {
    "duration": 256,
    "start_time": "2024-12-03T01:29:43.677Z"
   },
   {
    "duration": 2482,
    "start_time": "2024-12-03T02:15:15.927Z"
   },
   {
    "duration": 1152,
    "start_time": "2024-12-03T02:15:18.411Z"
   },
   {
    "duration": 37,
    "start_time": "2024-12-03T02:15:19.565Z"
   },
   {
    "duration": 19,
    "start_time": "2024-12-03T02:15:19.610Z"
   },
   {
    "duration": 200,
    "start_time": "2024-12-03T02:15:19.632Z"
   },
   {
    "duration": 15,
    "start_time": "2024-12-03T02:15:19.836Z"
   },
   {
    "duration": 14,
    "start_time": "2024-12-03T02:15:19.853Z"
   },
   {
    "duration": 122,
    "start_time": "2024-12-03T02:15:19.869Z"
   },
   {
    "duration": 99,
    "start_time": "2024-12-03T02:15:19.993Z"
   },
   {
    "duration": 134,
    "start_time": "2024-12-03T02:15:20.095Z"
   },
   {
    "duration": 88,
    "start_time": "2024-12-03T02:15:20.231Z"
   },
   {
    "duration": 40,
    "start_time": "2024-12-03T02:15:20.322Z"
   },
   {
    "duration": 16,
    "start_time": "2024-12-03T02:15:20.364Z"
   },
   {
    "duration": 28,
    "start_time": "2024-12-03T02:15:20.382Z"
   },
   {
    "duration": 24,
    "start_time": "2024-12-03T02:15:20.412Z"
   },
   {
    "duration": 7,
    "start_time": "2024-12-03T02:15:20.439Z"
   },
   {
    "duration": 5,
    "start_time": "2024-12-03T02:15:20.448Z"
   },
   {
    "duration": 4,
    "start_time": "2024-12-03T02:15:20.456Z"
   },
   {
    "duration": 5,
    "start_time": "2024-12-03T02:15:20.463Z"
   },
   {
    "duration": 9,
    "start_time": "2024-12-03T02:15:20.533Z"
   },
   {
    "duration": 877,
    "start_time": "2024-12-03T02:15:21.016Z"
   },
   {
    "duration": 261,
    "start_time": "2024-12-03T02:15:21.895Z"
   },
   {
    "duration": 7,
    "start_time": "2024-12-03T02:15:22.158Z"
   },
   {
    "duration": 6,
    "start_time": "2024-12-03T02:15:22.170Z"
   },
   {
    "duration": 7,
    "start_time": "2024-12-03T02:15:23.759Z"
   },
   {
    "duration": 7,
    "start_time": "2024-12-03T02:15:24.106Z"
   },
   {
    "duration": 15,
    "start_time": "2024-12-03T02:15:24.445Z"
   },
   {
    "duration": 11,
    "start_time": "2024-12-03T02:15:24.916Z"
   },
   {
    "duration": 81,
    "start_time": "2024-12-03T02:15:25.073Z"
   },
   {
    "duration": 18,
    "start_time": "2024-12-03T02:15:25.522Z"
   },
   {
    "duration": 31,
    "start_time": "2024-12-03T02:15:25.705Z"
   },
   {
    "duration": 71,
    "start_time": "2024-12-03T02:15:26.027Z"
   },
   {
    "duration": 75,
    "start_time": "2024-12-03T02:15:26.183Z"
   },
   {
    "duration": 74,
    "start_time": "2024-12-03T02:15:26.495Z"
   },
   {
    "duration": 27,
    "start_time": "2024-12-03T02:15:27.417Z"
   },
   {
    "duration": 31,
    "start_time": "2024-12-03T02:15:27.574Z"
   },
   {
    "duration": 199,
    "start_time": "2024-12-03T02:15:28.029Z"
   },
   {
    "duration": 124,
    "start_time": "2024-12-03T02:15:28.458Z"
   },
   {
    "duration": 324,
    "start_time": "2024-12-03T02:15:29.473Z"
   },
   {
    "duration": 14,
    "start_time": "2024-12-03T02:15:30.153Z"
   },
   {
    "duration": 3,
    "start_time": "2024-12-03T02:15:30.311Z"
   },
   {
    "duration": 3,
    "start_time": "2024-12-03T02:15:30.569Z"
   },
   {
    "duration": 220,
    "start_time": "2024-12-03T02:15:30.724Z"
   },
   {
    "duration": 38,
    "start_time": "2024-12-03T02:15:31.390Z"
   },
   {
    "duration": 194,
    "start_time": "2024-12-03T02:15:31.588Z"
   },
   {
    "duration": 590,
    "start_time": "2024-12-03T02:15:32.607Z"
   },
   {
    "duration": 467,
    "start_time": "2024-12-03T02:15:33.200Z"
   },
   {
    "duration": 7,
    "start_time": "2024-12-03T02:15:33.669Z"
   },
   {
    "duration": 1397,
    "start_time": "2024-12-03T02:15:34.373Z"
   },
   {
    "duration": 209,
    "start_time": "2024-12-03T02:15:35.774Z"
   },
   {
    "duration": 136,
    "start_time": "2024-12-03T02:15:35.985Z"
   },
   {
    "duration": 9,
    "start_time": "2024-12-03T02:15:36.123Z"
   },
   {
    "duration": 648,
    "start_time": "2024-12-03T02:15:36.301Z"
   },
   {
    "duration": 316,
    "start_time": "2024-12-03T02:15:39.955Z"
   },
   {
    "duration": 383,
    "start_time": "2024-12-03T02:28:56.527Z"
   },
   {
    "duration": 8,
    "start_time": "2024-12-03T02:30:37.338Z"
   },
   {
    "duration": 326,
    "start_time": "2024-12-03T02:33:33.456Z"
   },
   {
    "duration": 62,
    "start_time": "2024-12-03T02:49:15.763Z"
   },
   {
    "duration": 18,
    "start_time": "2024-12-03T02:49:23.520Z"
   },
   {
    "duration": 187,
    "start_time": "2024-12-03T02:49:40.699Z"
   },
   {
    "duration": 1364,
    "start_time": "2024-12-03T03:16:39.343Z"
   },
   {
    "duration": 16,
    "start_time": "2024-12-03T03:16:41.441Z"
   },
   {
    "duration": 2,
    "start_time": "2024-12-03T03:20:13.492Z"
   },
   {
    "duration": 920,
    "start_time": "2024-12-03T03:20:13.624Z"
   },
   {
    "duration": 22,
    "start_time": "2024-12-03T03:20:14.547Z"
   },
   {
    "duration": 14,
    "start_time": "2024-12-03T03:20:14.570Z"
   },
   {
    "duration": 172,
    "start_time": "2024-12-03T03:20:14.587Z"
   },
   {
    "duration": 17,
    "start_time": "2024-12-03T03:20:14.763Z"
   },
   {
    "duration": 13,
    "start_time": "2024-12-03T03:20:14.782Z"
   },
   {
    "duration": 90,
    "start_time": "2024-12-03T03:20:15.185Z"
   },
   {
    "duration": 84,
    "start_time": "2024-12-03T03:20:15.497Z"
   },
   {
    "duration": 94,
    "start_time": "2024-12-03T03:20:15.805Z"
   },
   {
    "duration": 103,
    "start_time": "2024-12-03T03:20:15.970Z"
   },
   {
    "duration": 34,
    "start_time": "2024-12-03T03:20:16.121Z"
   },
   {
    "duration": 18,
    "start_time": "2024-12-03T03:20:16.621Z"
   },
   {
    "duration": 6,
    "start_time": "2024-12-03T03:20:16.774Z"
   },
   {
    "duration": 19,
    "start_time": "2024-12-03T03:20:16.957Z"
   },
   {
    "duration": 12,
    "start_time": "2024-12-03T03:20:17.116Z"
   },
   {
    "duration": 6,
    "start_time": "2024-12-03T03:20:17.601Z"
   },
   {
    "duration": 4,
    "start_time": "2024-12-03T03:20:17.763Z"
   },
   {
    "duration": 5,
    "start_time": "2024-12-03T03:20:18.247Z"
   },
   {
    "duration": 11,
    "start_time": "2024-12-03T03:20:18.425Z"
   },
   {
    "duration": 805,
    "start_time": "2024-12-03T03:20:18.952Z"
   },
   {
    "duration": 302,
    "start_time": "2024-12-03T03:20:19.759Z"
   },
   {
    "duration": 6,
    "start_time": "2024-12-03T03:20:20.064Z"
   },
   {
    "duration": 4,
    "start_time": "2024-12-03T03:20:20.084Z"
   },
   {
    "duration": 6,
    "start_time": "2024-12-03T03:20:20.508Z"
   },
   {
    "duration": 5,
    "start_time": "2024-12-03T03:20:20.873Z"
   },
   {
    "duration": 14,
    "start_time": "2024-12-03T03:20:21.215Z"
   },
   {
    "duration": 8,
    "start_time": "2024-12-03T03:20:21.748Z"
   },
   {
    "duration": 76,
    "start_time": "2024-12-03T03:20:21.900Z"
   },
   {
    "duration": 18,
    "start_time": "2024-12-03T03:20:22.387Z"
   },
   {
    "duration": 32,
    "start_time": "2024-12-03T03:20:22.551Z"
   },
   {
    "duration": 70,
    "start_time": "2024-12-03T03:20:22.868Z"
   },
   {
    "duration": 64,
    "start_time": "2024-12-03T03:20:23.046Z"
   },
   {
    "duration": 67,
    "start_time": "2024-12-03T03:20:23.396Z"
   },
   {
    "duration": 30,
    "start_time": "2024-12-03T03:20:24.809Z"
   },
   {
    "duration": 38,
    "start_time": "2024-12-03T03:20:24.981Z"
   },
   {
    "duration": 190,
    "start_time": "2024-12-03T03:20:25.530Z"
   },
   {
    "duration": 134,
    "start_time": "2024-12-03T03:20:26.304Z"
   },
   {
    "duration": 293,
    "start_time": "2024-12-03T03:20:27.108Z"
   },
   {
    "duration": 14,
    "start_time": "2024-12-03T03:20:28.851Z"
   },
   {
    "duration": 5,
    "start_time": "2024-12-03T03:20:29.050Z"
   },
   {
    "duration": 4,
    "start_time": "2024-12-03T03:20:29.253Z"
   },
   {
    "duration": 330,
    "start_time": "2024-12-03T03:20:29.435Z"
   },
   {
    "duration": 46,
    "start_time": "2024-12-03T03:20:30.190Z"
   },
   {
    "duration": 193,
    "start_time": "2024-12-03T03:20:30.378Z"
   },
   {
    "duration": 567,
    "start_time": "2024-12-03T03:20:30.917Z"
   },
   {
    "duration": 490,
    "start_time": "2024-12-03T03:20:31.488Z"
   },
   {
    "duration": 9,
    "start_time": "2024-12-03T03:20:31.980Z"
   },
   {
    "duration": 1446,
    "start_time": "2024-12-03T03:20:32.933Z"
   },
   {
    "duration": 195,
    "start_time": "2024-12-03T03:20:34.382Z"
   },
   {
    "duration": 141,
    "start_time": "2024-12-03T03:20:34.579Z"
   },
   {
    "duration": 18,
    "start_time": "2024-12-03T03:20:34.722Z"
   },
   {
    "duration": 694,
    "start_time": "2024-12-03T03:20:34.742Z"
   },
   {
    "duration": 264,
    "start_time": "2024-12-03T03:20:37.658Z"
   },
   {
    "duration": 17,
    "start_time": "2024-12-03T03:20:39.013Z"
   },
   {
    "duration": 1315,
    "start_time": "2024-12-03T03:20:40.613Z"
   },
   {
    "duration": 11,
    "start_time": "2024-12-03T03:20:41.938Z"
   },
   {
    "duration": 16,
    "start_time": "2024-12-03T03:30:43.756Z"
   },
   {
    "duration": 10,
    "start_time": "2024-12-03T03:30:49.627Z"
   },
   {
    "duration": 15,
    "start_time": "2024-12-03T03:30:56.412Z"
   },
   {
    "duration": 11,
    "start_time": "2024-12-03T03:57:04.828Z"
   },
   {
    "duration": 34,
    "start_time": "2024-12-03T04:00:35.677Z"
   },
   {
    "duration": 10,
    "start_time": "2024-12-03T04:00:36.198Z"
   },
   {
    "duration": 7,
    "start_time": "2024-12-03T04:00:36.825Z"
   },
   {
    "duration": 29,
    "start_time": "2024-12-03T04:00:42.328Z"
   },
   {
    "duration": 2200,
    "start_time": "2024-12-03T14:47:08.750Z"
   },
   {
    "duration": 1007,
    "start_time": "2024-12-03T14:47:10.953Z"
   },
   {
    "duration": 26,
    "start_time": "2024-12-03T14:47:11.961Z"
   },
   {
    "duration": 13,
    "start_time": "2024-12-03T14:47:11.989Z"
   },
   {
    "duration": 166,
    "start_time": "2024-12-03T14:47:12.004Z"
   },
   {
    "duration": 11,
    "start_time": "2024-12-03T14:47:12.172Z"
   },
   {
    "duration": 12,
    "start_time": "2024-12-03T14:47:12.184Z"
   },
   {
    "duration": 115,
    "start_time": "2024-12-03T14:47:12.198Z"
   },
   {
    "duration": 97,
    "start_time": "2024-12-03T14:47:12.315Z"
   },
   {
    "duration": 104,
    "start_time": "2024-12-03T14:47:12.415Z"
   },
   {
    "duration": 97,
    "start_time": "2024-12-03T14:47:12.521Z"
   },
   {
    "duration": 33,
    "start_time": "2024-12-03T14:47:12.620Z"
   },
   {
    "duration": 13,
    "start_time": "2024-12-03T14:47:12.899Z"
   },
   {
    "duration": 4,
    "start_time": "2024-12-03T14:47:13.108Z"
   },
   {
    "duration": 17,
    "start_time": "2024-12-03T14:47:13.300Z"
   },
   {
    "duration": 8,
    "start_time": "2024-12-03T14:47:13.501Z"
   },
   {
    "duration": 5,
    "start_time": "2024-12-03T14:47:14.036Z"
   },
   {
    "duration": 3,
    "start_time": "2024-12-03T14:47:14.233Z"
   },
   {
    "duration": 5,
    "start_time": "2024-12-03T14:47:14.831Z"
   },
   {
    "duration": 4,
    "start_time": "2024-12-03T14:47:15.024Z"
   },
   {
    "duration": 775,
    "start_time": "2024-12-03T14:47:15.634Z"
   },
   {
    "duration": 244,
    "start_time": "2024-12-03T14:47:16.411Z"
   },
   {
    "duration": 7,
    "start_time": "2024-12-03T14:47:16.657Z"
   },
   {
    "duration": 5,
    "start_time": "2024-12-03T14:47:17.005Z"
   },
   {
    "duration": 6,
    "start_time": "2024-12-03T14:47:19.184Z"
   },
   {
    "duration": 4,
    "start_time": "2024-12-03T14:47:20.168Z"
   },
   {
    "duration": 12,
    "start_time": "2024-12-03T14:47:21.323Z"
   },
   {
    "duration": 9,
    "start_time": "2024-12-03T14:47:25.712Z"
   },
   {
    "duration": 89,
    "start_time": "2024-12-03T14:47:26.540Z"
   },
   {
    "duration": 16,
    "start_time": "2024-12-03T14:47:46.189Z"
   },
   {
    "duration": 31,
    "start_time": "2024-12-03T14:47:46.389Z"
   },
   {
    "duration": 62,
    "start_time": "2024-12-03T14:47:46.753Z"
   },
   {
    "duration": 64,
    "start_time": "2024-12-03T14:47:46.946Z"
   },
   {
    "duration": 52,
    "start_time": "2024-12-03T14:47:47.337Z"
   },
   {
    "duration": 22,
    "start_time": "2024-12-03T14:47:48.512Z"
   },
   {
    "duration": 26,
    "start_time": "2024-12-03T14:47:48.728Z"
   },
   {
    "duration": 190,
    "start_time": "2024-12-03T14:47:49.299Z"
   },
   {
    "duration": 148,
    "start_time": "2024-12-03T14:47:49.893Z"
   },
   {
    "duration": 244,
    "start_time": "2024-12-03T14:47:50.482Z"
   },
   {
    "duration": 14,
    "start_time": "2024-12-03T14:47:51.285Z"
   },
   {
    "duration": 3,
    "start_time": "2024-12-03T14:47:51.510Z"
   },
   {
    "duration": 3,
    "start_time": "2024-12-03T14:47:51.731Z"
   },
   {
    "duration": 217,
    "start_time": "2024-12-03T14:47:51.944Z"
   },
   {
    "duration": 35,
    "start_time": "2024-12-03T14:47:52.534Z"
   },
   {
    "duration": 191,
    "start_time": "2024-12-03T14:47:52.741Z"
   },
   {
    "duration": 531,
    "start_time": "2024-12-03T14:47:53.354Z"
   },
   {
    "duration": 432,
    "start_time": "2024-12-03T14:47:53.887Z"
   },
   {
    "duration": 9,
    "start_time": "2024-12-03T14:47:54.321Z"
   },
   {
    "duration": 1252,
    "start_time": "2024-12-03T14:47:54.676Z"
   },
   {
    "duration": 193,
    "start_time": "2024-12-03T14:47:55.931Z"
   },
   {
    "duration": 137,
    "start_time": "2024-12-03T14:47:56.126Z"
   },
   {
    "duration": 7,
    "start_time": "2024-12-03T14:47:56.266Z"
   },
   {
    "duration": 640,
    "start_time": "2024-12-03T14:47:56.275Z"
   },
   {
    "duration": 242,
    "start_time": "2024-12-03T14:47:57.146Z"
   },
   {
    "duration": 17,
    "start_time": "2024-12-03T14:47:57.612Z"
   },
   {
    "duration": 1241,
    "start_time": "2024-12-03T14:47:58.308Z"
   },
   {
    "duration": 10,
    "start_time": "2024-12-03T14:47:59.551Z"
   },
   {
    "duration": 27,
    "start_time": "2024-12-03T14:47:59.563Z"
   },
   {
    "duration": 9,
    "start_time": "2024-12-03T14:47:59.592Z"
   },
   {
    "duration": 8,
    "start_time": "2024-12-03T14:48:00.314Z"
   },
   {
    "duration": 428,
    "start_time": "2024-12-03T14:58:22.152Z"
   },
   {
    "duration": 285,
    "start_time": "2024-12-03T14:58:30.727Z"
   },
   {
    "duration": 263,
    "start_time": "2024-12-03T14:58:41.007Z"
   },
   {
    "duration": 5,
    "start_time": "2024-12-03T15:07:19.534Z"
   },
   {
    "duration": 3,
    "start_time": "2024-12-03T15:07:34.053Z"
   },
   {
    "duration": 31,
    "start_time": "2024-12-03T15:08:53.796Z"
   },
   {
    "duration": 29,
    "start_time": "2024-12-03T15:09:22.914Z"
   },
   {
    "duration": 28,
    "start_time": "2024-12-03T15:09:59.997Z"
   },
   {
    "duration": 422,
    "start_time": "2024-12-03T15:10:47.062Z"
   },
   {
    "duration": 400,
    "start_time": "2024-12-03T15:12:11.640Z"
   },
   {
    "duration": 20,
    "start_time": "2024-12-03T15:12:58.005Z"
   },
   {
    "duration": 11,
    "start_time": "2024-12-03T15:13:02.793Z"
   },
   {
    "duration": 144,
    "start_time": "2024-12-03T15:13:43.327Z"
   },
   {
    "duration": 19,
    "start_time": "2024-12-03T15:14:26.872Z"
   },
   {
    "duration": 11,
    "start_time": "2024-12-03T15:14:29.696Z"
   },
   {
    "duration": 11,
    "start_time": "2024-12-03T15:14:54.955Z"
   },
   {
    "duration": 8,
    "start_time": "2024-12-03T15:14:59.036Z"
   },
   {
    "duration": 12,
    "start_time": "2024-12-03T15:17:34.938Z"
   },
   {
    "duration": 3,
    "start_time": "2024-12-03T15:17:57.775Z"
   },
   {
    "duration": 118,
    "start_time": "2024-12-03T15:18:21.405Z"
   },
   {
    "duration": 4,
    "start_time": "2024-12-03T15:18:43.363Z"
   },
   {
    "duration": 12,
    "start_time": "2024-12-03T15:18:59.111Z"
   },
   {
    "duration": 3,
    "start_time": "2024-12-03T15:19:10.075Z"
   },
   {
    "duration": 7,
    "start_time": "2024-12-03T15:19:10.940Z"
   },
   {
    "duration": 3,
    "start_time": "2024-12-03T15:20:22.507Z"
   },
   {
    "duration": 4,
    "start_time": "2024-12-03T15:20:23.072Z"
   },
   {
    "duration": 2,
    "start_time": "2024-12-03T15:25:48.827Z"
   }
  ],
  "colab": {
   "provenance": []
  },
  "kernelspec": {
   "display_name": "Python 3",
   "language": "python",
   "name": "python3"
  },
  "language_info": {
   "codemirror_mode": {
    "name": "ipython",
    "version": 3
   },
   "file_extension": ".py",
   "mimetype": "text/x-python",
   "name": "python",
   "nbconvert_exporter": "python",
   "pygments_lexer": "ipython3",
   "version": "3.13.0"
  },
  "toc": {
   "base_numbering": 1,
   "nav_menu": {},
   "number_sections": true,
   "sideBar": true,
   "skip_h1_title": true,
   "title_cell": "Table of Contents",
   "title_sidebar": "Contents",
   "toc_cell": false,
   "toc_position": {},
   "toc_section_display": true,
   "toc_window_display": false
  }
 },
 "nbformat": 4,
 "nbformat_minor": 5
}
